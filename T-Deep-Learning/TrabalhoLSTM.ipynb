{
 "cells": [
  {
   "cell_type": "markdown",
   "metadata": {
    "id": "DT9BdSk9_eA1"
   },
   "source": [
    "## Modelo Futuros Mini Ibovespa - Dados Históricos\n",
    "\n",
    "\n",
    "O Mercado Futuro é o ambiente onde você pode ganhar com a alta ou baixa de um determinado ativo, seja ele uma commodity (Milho, Café, Boi Gordo), uma moeda (como o dólar), um Índice (Bovespa, Índice S&P 500) ou mesmo uma taxa de juros. Nele, são negociados contratos futuros.\n",
    "\n",
    "<br><img src=\"grafico.jpeg\"><br>\n",
    "\n",
    "O mini índice é um contrato futuro derivado do Índice Bovespa, ou seja, é um ativo que tem como base o sobe e desce desse índice. Como esse tipo de operação envolve **risco considerável** e **oscilações frequentes no mercado**, ela é indicada apenas para aqueles que se encaixam no perfil de investidor arrojado.\n",
    "\n",
    "Neste trabalho iremos implementar uma RNNs para realizar a predição diária do Mini Índice da Ibovespa.\n",
    "\n",
    "O dataset **\"FuturosMiniBovespa.csv\"** possui informações dispostas em colunas :\n",
    "\n",
    "* **Date**:  Data das operações na bolsa (diária)\n",
    "* **Close**:  Valor de Fechamento do Índice da Ibovespa (no dia)\n",
    "* **Open**:  Valor da Abertura do Índice da Ibovespa (no dia)\n",
    "* **High**:  Valor máximo do Índice da Ibovespa (no dia)\n",
    "* **Low**:  Valor mínimo do Índice da Ibovespa (no dia)\n",
    "* **Vol**:  Volume de contratos negociados (no dia)\n",
    "\n",
    "\n",
    "\n",
    "\n",
    "### Bibliotecas"
   ]
  },
  {
   "cell_type": "code",
   "execution_count": 5,
   "metadata": {
    "id": "1xZAfpIm_eA6"
   },
   "outputs": [
    {
     "ename": "ModuleNotFoundError",
     "evalue": "No module named 'keras'",
     "output_type": "error",
     "traceback": [
      "\u001b[0;31m---------------------------------------------------------------------------\u001b[0m",
      "\u001b[0;31mModuleNotFoundError\u001b[0m                       Traceback (most recent call last)",
      "\u001b[0;32m<ipython-input-5-65921dda7fb2>\u001b[0m in \u001b[0;36m<module>\u001b[0;34m\u001b[0m\n\u001b[1;32m      1\u001b[0m \u001b[0;32mimport\u001b[0m \u001b[0mpandas\u001b[0m \u001b[0;32mas\u001b[0m \u001b[0mpd\u001b[0m\u001b[0;34m\u001b[0m\u001b[0;34m\u001b[0m\u001b[0m\n\u001b[0;32m----> 2\u001b[0;31m \u001b[0;32mfrom\u001b[0m \u001b[0mkeras\u001b[0m\u001b[0;34m.\u001b[0m\u001b[0mmodels\u001b[0m \u001b[0;32mimport\u001b[0m \u001b[0mSequential\u001b[0m\u001b[0;34m\u001b[0m\u001b[0;34m\u001b[0m\u001b[0m\n\u001b[0m\u001b[1;32m      3\u001b[0m \u001b[0;32mfrom\u001b[0m \u001b[0mkeras\u001b[0m\u001b[0;34m.\u001b[0m\u001b[0mlayers\u001b[0m \u001b[0;32mimport\u001b[0m \u001b[0mDense\u001b[0m\u001b[0;34m,\u001b[0m \u001b[0mDropout\u001b[0m\u001b[0;34m,\u001b[0m \u001b[0mLSTM\u001b[0m\u001b[0;34m\u001b[0m\u001b[0;34m\u001b[0m\u001b[0m\n\u001b[1;32m      4\u001b[0m \u001b[0;32mimport\u001b[0m \u001b[0mplotly\u001b[0m\u001b[0;34m.\u001b[0m\u001b[0mgraph_objects\u001b[0m \u001b[0;32mas\u001b[0m \u001b[0mgo\u001b[0m\u001b[0;34m\u001b[0m\u001b[0;34m\u001b[0m\u001b[0m\n\u001b[1;32m      5\u001b[0m \u001b[0;32mimport\u001b[0m \u001b[0mnumpy\u001b[0m \u001b[0;32mas\u001b[0m \u001b[0mnp\u001b[0m\u001b[0;34m\u001b[0m\u001b[0;34m\u001b[0m\u001b[0m\n",
      "\u001b[0;31mModuleNotFoundError\u001b[0m: No module named 'keras'"
     ]
    }
   ],
   "source": [
    "import pandas as pd\n",
    "from keras.models import Sequential\n",
    "from keras.layers import Dense, Dropout, LSTM\n",
    "import plotly.graph_objects as go \n",
    "import numpy as np\n",
    "import matplotlib.pyplot as plt\n",
    "import seaborn as sns\n",
    "%matplotlib inline"
   ]
  },
  {
   "cell_type": "markdown",
   "metadata": {
    "id": "PJXEwS3X_eA7"
   },
   "source": [
    "### Carregando os dados\n",
    "\n",
    "Vamos começar lendo o arquivo FuturosMiniBovespa.csv em um dataframe do pandas, mas antes vamos dar uma olhadinha no gráfico de variação do último mês do índice Ibovespa."
   ]
  },
  {
   "cell_type": "code",
   "execution_count": 3,
   "metadata": {
    "id": "28dSt8DD_eA8"
   },
   "outputs": [],
   "source": [
    "DataSet=pd.read_csv('FuturosEthereum-teste.csv')"
   ]
  },
  {
   "cell_type": "code",
   "execution_count": 4,
   "metadata": {
    "colab": {
     "base_uri": "https://localhost:8080/",
     "height": 542
    },
    "id": "JPHS398Y_eA9",
    "outputId": "92f2ac5b-1e64-47f9-bbc1-fed722163659"
   },
   "outputs": [
    {
     "ename": "NameError",
     "evalue": "name 'go' is not defined",
     "output_type": "error",
     "traceback": [
      "\u001b[0;31m---------------------------------------------------------------------------\u001b[0m",
      "\u001b[0;31mNameError\u001b[0m                                 Traceback (most recent call last)",
      "\u001b[0;32m<ipython-input-4-43e2848bbcbd>\u001b[0m in \u001b[0;36m<module>\u001b[0;34m\u001b[0m\n\u001b[0;32m----> 1\u001b[0;31m fig = go.Figure(data=[go.Candlestick(x=DataSet['Date'],\n\u001b[0m\u001b[1;32m      2\u001b[0m                 \u001b[0mopen\u001b[0m\u001b[0;34m=\u001b[0m\u001b[0mDataSet\u001b[0m\u001b[0;34m[\u001b[0m\u001b[0;34m'Open'\u001b[0m\u001b[0;34m]\u001b[0m\u001b[0;34m,\u001b[0m \u001b[0mhigh\u001b[0m\u001b[0;34m=\u001b[0m\u001b[0mDataSet\u001b[0m\u001b[0;34m[\u001b[0m\u001b[0;34m'High'\u001b[0m\u001b[0;34m]\u001b[0m\u001b[0;34m,\u001b[0m\u001b[0;34m\u001b[0m\u001b[0;34m\u001b[0m\u001b[0m\n\u001b[1;32m      3\u001b[0m                 low=DataSet['Low'], close=DataSet['Close'])\n\u001b[1;32m      4\u001b[0m                      ])\n\u001b[1;32m      5\u001b[0m \u001b[0;34m\u001b[0m\u001b[0m\n",
      "\u001b[0;31mNameError\u001b[0m: name 'go' is not defined"
     ]
    }
   ],
   "source": [
    "fig = go.Figure(data=[go.Candlestick(x=DataSet['Date'],\n",
    "                open=DataSet['Open'], high=DataSet['High'],\n",
    "                low=DataSet['Low'], close=DataSet['Close'])\n",
    "                     ])\n",
    "\n",
    "fig.update_layout(xaxis_rangeslider_visible=False)  \n",
    "fig.show()\n",
    "\n"
   ]
  },
  {
   "cell_type": "markdown",
   "metadata": {
    "id": "h93vB-06_eA_"
   },
   "source": [
    "## Rede Neural Recorrente (RNN)\n",
    "\n",
    "Antes de avançar para LSTM, primeiro vamos introduzir o conceito de Redes Recorrentes. Elas são redes utilizadas para reconhecer padrões quando os resultados do passado influenciam no resultado atual. Um exemplo disso são as séries temporais, em que a ordem dos dados é muito importante. <br>\n",
    "\n",
    "Nesta arquitetura, um neurônio tem como entrada seu estado anterior, além das entradas da camada anterior. A imagem abaixo ilustra esta nova modelagem.\n",
    "<br><img src=\"Arquitetura RNN.png\"><br>\n",
    "\n",
    "Observe que H representa o estado. Assim, no estado H_1, o neurônio recebe como parâmetro de entrada X_1 e, além disso, seu estado anterior H_0. O principal problema desta arquitetura é que os estados mais antigos são esquecidos muito rapidamente. Ou seja, para sequências em que precisamos lembrar além de um passado imediato, as redes RNNs são limitadas.\n"
   ]
  },
  {
   "cell_type": "markdown",
   "metadata": {
    "id": "MBZXAI-1_eBA"
   },
   "source": [
    "### Rede LSTM\n",
    "Uma rede LSTM tem origem em uma RNN (Rede Neural Recorrente). Mas ela resolve o problema de memória mudando sua arquitetura.\n",
    "\n",
    "<br><img src=\"Arquitetura LSTM.png\"><br>\n",
    "\n",
    "Nesta nova arquitetura, cada neurônio possui 3 gates, cada um com uma função diferente. São eles:\n",
    "* Input Gate\n",
    "* Output Gate\n",
    "* Forget Gate\n",
    "\n",
    "Agora, um neurônio LSTM recebe entradas de seu estado anterior, assim como ocorria na Rede Recorrente:\n",
    "<br><img src=\"Desdobramento LSTM.png\"><br>\n"
   ]
  },
  {
   "cell_type": "markdown",
   "metadata": {
    "id": "qaTJQiDL_eBB"
   },
   "source": [
    "### Agora vamos ler o arquivo do período desejável "
   ]
  },
  {
   "cell_type": "code",
   "execution_count": 4,
   "metadata": {
    "colab": {
     "base_uri": "https://localhost:8080/",
     "height": 206
    },
    "id": "HAPwd8iP_eBB",
    "outputId": "d727b0c2-9e28-456b-9269-01394594eae5"
   },
   "outputs": [
    {
     "data": {
      "text/html": [
       "<div>\n",
       "<style scoped>\n",
       "    .dataframe tbody tr th:only-of-type {\n",
       "        vertical-align: middle;\n",
       "    }\n",
       "\n",
       "    .dataframe tbody tr th {\n",
       "        vertical-align: top;\n",
       "    }\n",
       "\n",
       "    .dataframe thead th {\n",
       "        text-align: right;\n",
       "    }\n",
       "</style>\n",
       "<table border=\"1\" class=\"dataframe\">\n",
       "  <thead>\n",
       "    <tr style=\"text-align: right;\">\n",
       "      <th></th>\n",
       "      <th>Date</th>\n",
       "      <th>Open</th>\n",
       "      <th>High</th>\n",
       "      <th>Low</th>\n",
       "      <th>Close</th>\n",
       "      <th>Adj Close</th>\n",
       "      <th>Volume</th>\n",
       "    </tr>\n",
       "  </thead>\n",
       "  <tbody>\n",
       "    <tr>\n",
       "      <th>0</th>\n",
       "      <td>2015-08-07</td>\n",
       "      <td>2.831620</td>\n",
       "      <td>3.536610</td>\n",
       "      <td>2.521120</td>\n",
       "      <td>2.772120</td>\n",
       "      <td>2.772120</td>\n",
       "      <td>164329.0</td>\n",
       "    </tr>\n",
       "    <tr>\n",
       "      <th>1</th>\n",
       "      <td>2015-08-08</td>\n",
       "      <td>2.793760</td>\n",
       "      <td>2.798810</td>\n",
       "      <td>0.714725</td>\n",
       "      <td>0.753325</td>\n",
       "      <td>0.753325</td>\n",
       "      <td>674188.0</td>\n",
       "    </tr>\n",
       "    <tr>\n",
       "      <th>2</th>\n",
       "      <td>2015-08-09</td>\n",
       "      <td>0.706136</td>\n",
       "      <td>0.879810</td>\n",
       "      <td>0.629191</td>\n",
       "      <td>0.701897</td>\n",
       "      <td>0.701897</td>\n",
       "      <td>532170.0</td>\n",
       "    </tr>\n",
       "    <tr>\n",
       "      <th>3</th>\n",
       "      <td>2015-08-10</td>\n",
       "      <td>0.713989</td>\n",
       "      <td>0.729854</td>\n",
       "      <td>0.636546</td>\n",
       "      <td>0.708448</td>\n",
       "      <td>0.708448</td>\n",
       "      <td>405283.0</td>\n",
       "    </tr>\n",
       "    <tr>\n",
       "      <th>4</th>\n",
       "      <td>2015-08-11</td>\n",
       "      <td>0.708087</td>\n",
       "      <td>1.131410</td>\n",
       "      <td>0.663235</td>\n",
       "      <td>1.067860</td>\n",
       "      <td>1.067860</td>\n",
       "      <td>1463100.0</td>\n",
       "    </tr>\n",
       "  </tbody>\n",
       "</table>\n",
       "</div>"
      ],
      "text/plain": [
       "         Date      Open      High       Low     Close  Adj Close     Volume\n",
       "0  2015-08-07  2.831620  3.536610  2.521120  2.772120   2.772120   164329.0\n",
       "1  2015-08-08  2.793760  2.798810  0.714725  0.753325   0.753325   674188.0\n",
       "2  2015-08-09  0.706136  0.879810  0.629191  0.701897   0.701897   532170.0\n",
       "3  2015-08-10  0.713989  0.729854  0.636546  0.708448   0.708448   405283.0\n",
       "4  2015-08-11  0.708087  1.131410  0.663235  1.067860   1.067860  1463100.0"
      ]
     },
     "execution_count": 4,
     "metadata": {
      "tags": []
     },
     "output_type": "execute_result"
    }
   ],
   "source": [
    "DataSet=pd.read_csv('FuturosEthereum-treino.csv')\n",
    "DataSet=DataSet.dropna()\n",
    "DataSet.head()"
   ]
  },
  {
   "cell_type": "code",
   "execution_count": 5,
   "metadata": {
    "colab": {
     "base_uri": "https://localhost:8080/",
     "height": 300
    },
    "id": "FQ_MtD6q_eBD",
    "outputId": "0acb89a3-7435-4d50-ed5c-6c76e5b31aa8"
   },
   "outputs": [
    {
     "data": {
      "text/html": [
       "<div>\n",
       "<style scoped>\n",
       "    .dataframe tbody tr th:only-of-type {\n",
       "        vertical-align: middle;\n",
       "    }\n",
       "\n",
       "    .dataframe tbody tr th {\n",
       "        vertical-align: top;\n",
       "    }\n",
       "\n",
       "    .dataframe thead th {\n",
       "        text-align: right;\n",
       "    }\n",
       "</style>\n",
       "<table border=\"1\" class=\"dataframe\">\n",
       "  <thead>\n",
       "    <tr style=\"text-align: right;\">\n",
       "      <th></th>\n",
       "      <th>Open</th>\n",
       "      <th>High</th>\n",
       "      <th>Low</th>\n",
       "      <th>Close</th>\n",
       "      <th>Adj Close</th>\n",
       "      <th>Volume</th>\n",
       "    </tr>\n",
       "  </thead>\n",
       "  <tbody>\n",
       "    <tr>\n",
       "      <th>count</th>\n",
       "      <td>2090.000000</td>\n",
       "      <td>2090.000000</td>\n",
       "      <td>2090.000000</td>\n",
       "      <td>2090.000000</td>\n",
       "      <td>2090.000000</td>\n",
       "      <td>2.090000e+03</td>\n",
       "    </tr>\n",
       "    <tr>\n",
       "      <th>mean</th>\n",
       "      <td>308.398014</td>\n",
       "      <td>319.833590</td>\n",
       "      <td>296.184254</td>\n",
       "      <td>309.636474</td>\n",
       "      <td>309.636474</td>\n",
       "      <td>6.075951e+09</td>\n",
       "    </tr>\n",
       "    <tr>\n",
       "      <th>std</th>\n",
       "      <td>425.797837</td>\n",
       "      <td>443.141785</td>\n",
       "      <td>407.478094</td>\n",
       "      <td>429.030976</td>\n",
       "      <td>429.030976</td>\n",
       "      <td>8.970136e+09</td>\n",
       "    </tr>\n",
       "    <tr>\n",
       "      <th>min</th>\n",
       "      <td>0.431589</td>\n",
       "      <td>0.482988</td>\n",
       "      <td>0.420897</td>\n",
       "      <td>0.434829</td>\n",
       "      <td>0.434829</td>\n",
       "      <td>1.021280e+05</td>\n",
       "    </tr>\n",
       "    <tr>\n",
       "      <th>25%</th>\n",
       "      <td>13.185075</td>\n",
       "      <td>13.531575</td>\n",
       "      <td>12.693700</td>\n",
       "      <td>13.176775</td>\n",
       "      <td>13.176775</td>\n",
       "      <td>3.173252e+07</td>\n",
       "    </tr>\n",
       "    <tr>\n",
       "      <th>50%</th>\n",
       "      <td>189.438515</td>\n",
       "      <td>196.909904</td>\n",
       "      <td>184.524468</td>\n",
       "      <td>189.644058</td>\n",
       "      <td>189.644058</td>\n",
       "      <td>1.972050e+09</td>\n",
       "    </tr>\n",
       "    <tr>\n",
       "      <th>75%</th>\n",
       "      <td>359.281754</td>\n",
       "      <td>371.925491</td>\n",
       "      <td>348.044732</td>\n",
       "      <td>359.041008</td>\n",
       "      <td>359.041008</td>\n",
       "      <td>8.570984e+09</td>\n",
       "    </tr>\n",
       "    <tr>\n",
       "      <th>max</th>\n",
       "      <td>2757.734131</td>\n",
       "      <td>2797.972412</td>\n",
       "      <td>2728.169922</td>\n",
       "      <td>2773.207031</td>\n",
       "      <td>2773.207031</td>\n",
       "      <td>6.073363e+10</td>\n",
       "    </tr>\n",
       "  </tbody>\n",
       "</table>\n",
       "</div>"
      ],
      "text/plain": [
       "              Open         High  ...    Adj Close        Volume\n",
       "count  2090.000000  2090.000000  ...  2090.000000  2.090000e+03\n",
       "mean    308.398014   319.833590  ...   309.636474  6.075951e+09\n",
       "std     425.797837   443.141785  ...   429.030976  8.970136e+09\n",
       "min       0.431589     0.482988  ...     0.434829  1.021280e+05\n",
       "25%      13.185075    13.531575  ...    13.176775  3.173252e+07\n",
       "50%     189.438515   196.909904  ...   189.644058  1.972050e+09\n",
       "75%     359.281754   371.925491  ...   359.041008  8.570984e+09\n",
       "max    2757.734131  2797.972412  ...  2773.207031  6.073363e+10\n",
       "\n",
       "[8 rows x 6 columns]"
      ]
     },
     "execution_count": 5,
     "metadata": {
      "tags": []
     },
     "output_type": "execute_result"
    }
   ],
   "source": [
    "DataSet.describe()"
   ]
  },
  {
   "cell_type": "markdown",
   "metadata": {
    "id": "OY_JIEd4_eBE"
   },
   "source": [
    "### Inicialmente iremos criar uma RNN baseada apenas no Valor de Abertura"
   ]
  },
  {
   "cell_type": "code",
   "execution_count": 6,
   "metadata": {
    "colab": {
     "base_uri": "https://localhost:8080/",
     "height": 265
    },
    "id": "IqEZJZNg_eBF",
    "outputId": "c9ba4361-a434-47ff-d9c0-2f52ed497a90"
   },
   "outputs": [
    {
     "data": {
      "image/png": "[encoded data removed]",
      "text/plain": [
       "<Figure size 432x288 with 1 Axes>"
      ]
     },
     "metadata": {
      "needs_background": "light",
      "tags": []
     },
     "output_type": "display_data"
    }
   ],
   "source": [
    "plt.scatter(DataSet['Date'],DataSet['Open'],)\n",
    "plt.show()\n",
    "\n",
    "base_treinamento = DataSet.iloc[:, 1:2].values\n",
    "\n",
    "#DataSet.drop(['Date','Close','High','Low', 'Volume'],axis=1,inplace=True)"
   ]
  },
  {
   "cell_type": "code",
   "execution_count": 8,
   "metadata": {
    "colab": {
     "base_uri": "https://localhost:8080/"
    },
    "id": "sMPxX7Cu_eBG",
    "outputId": "04dea28f-ada6-40d7-cdb6-27f586309771"
   },
   "outputs": [
    {
     "data": {
      "text/plain": [
       "array([[2.83162000e+00],\n",
       "       [2.79376000e+00],\n",
       "       [7.06136000e-01],\n",
       "       ...,\n",
       "       [2.66468555e+03],\n",
       "       [2.74864966e+03],\n",
       "       [2.75773413e+03]])"
      ]
     },
     "execution_count": 8,
     "metadata": {
      "tags": []
     },
     "output_type": "execute_result"
    }
   ],
   "source": [
    "base_treinamento"
   ]
  },
  {
   "cell_type": "markdown",
   "metadata": {
    "id": "1grcJbI5_eBH"
   },
   "source": [
    "### Normalizar os dados do Mini Índice"
   ]
  },
  {
   "cell_type": "code",
   "execution_count": 9,
   "metadata": {
    "id": "xHuqhrsD_eBH"
   },
   "outputs": [],
   "source": [
    "from sklearn.preprocessing import MinMaxScaler\n",
    "scaler=MinMaxScaler(feature_range=(0,1))\n",
    "DataScaled=scaler.fit_transform(base_treinamento)"
   ]
  },
  {
   "cell_type": "code",
   "execution_count": 10,
   "metadata": {
    "colab": {
     "base_uri": "https://localhost:8080/"
    },
    "id": "7aR_NSaH_eBH",
    "outputId": "55c56e79-41dd-4bda-9cdd-e9ed4c1e58ce"
   },
   "outputs": [
    {
     "name": "stdout",
     "output_type": "stream",
     "text": [
      "[[8.70427152e-04]\n",
      " [8.56696341e-04]\n",
      " [9.95708653e-05]\n",
      " ...\n",
      " [9.66253763e-01]\n",
      " [9.96705304e-01]\n",
      " [1.00000000e+00]]\n"
     ]
    }
   ],
   "source": [
    "print(DataScaled)"
   ]
  },
  {
   "cell_type": "markdown",
   "metadata": {
    "id": "jiOWiXzb_eBI"
   },
   "source": [
    "### Definição dos previsores"
   ]
  },
  {
   "cell_type": "code",
   "execution_count": 18,
   "metadata": {
    "colab": {
     "base_uri": "https://localhost:8080/"
    },
    "id": "e87dxu5Y_eBI",
    "outputId": "752bbf58-282c-46d2-b2d1-ee84bdb7915b"
   },
   "outputs": [
    {
     "name": "stdout",
     "output_type": "stream",
     "text": [
      "2090\n"
     ]
    }
   ],
   "source": [
    "previsores = []\n",
    "preco_real = []\n",
    "NRecursao = 90\n",
    "DataSetLen = len(DataScaled)\n",
    "print(DataSetLen)"
   ]
  },
  {
   "cell_type": "code",
   "execution_count": 19,
   "metadata": {
    "id": "TjQEL-GB_eBJ"
   },
   "outputs": [],
   "source": [
    "\n",
    "for i in range(NRecursao, DataSetLen):\n",
    "    previsores.append(DataScaled[i-NRecursao:i,0])\n",
    "    preco_real.append(DataScaled[i,0])\n",
    "\n",
    "previsores, preco_real = np.array(previsores), np.array(preco_real)"
   ]
  },
  {
   "cell_type": "code",
   "execution_count": 20,
   "metadata": {
    "colab": {
     "base_uri": "https://localhost:8080/"
    },
    "id": "Zf3lV3aa_eBJ",
    "outputId": "8548ed6f-ae2c-4db1-c9fb-35c618dff83e"
   },
   "outputs": [
    {
     "data": {
      "text/plain": [
       "(2000, 90)"
      ]
     },
     "execution_count": 20,
     "metadata": {
      "tags": []
     },
     "output_type": "execute_result"
    }
   ],
   "source": [
    "previsores.shape"
   ]
  },
  {
   "cell_type": "markdown",
   "metadata": {
    "id": "kG7Sw5pu_eBK"
   },
   "source": [
    "### Tranformar para o formato do Tensor do Keras\n",
    "\n",
    "<br><img src=\"TensorKeras.png\"><br>"
   ]
  },
  {
   "cell_type": "code",
   "execution_count": 21,
   "metadata": {
    "id": "LJXtSluM_eBK"
   },
   "outputs": [],
   "source": [
    "previsores = np.reshape(previsores, (previsores.shape[0], previsores.shape[1], 1))"
   ]
  },
  {
   "cell_type": "code",
   "execution_count": 22,
   "metadata": {
    "colab": {
     "base_uri": "https://localhost:8080/"
    },
    "id": "D12QPFzU_eBK",
    "outputId": "c5bbb363-8f7b-4122-970a-27ff247bf3d6"
   },
   "outputs": [
    {
     "data": {
      "text/plain": [
       "(2000, 90, 1)"
      ]
     },
     "execution_count": 22,
     "metadata": {
      "tags": []
     },
     "output_type": "execute_result"
    }
   ],
   "source": [
    "previsores.shape"
   ]
  },
  {
   "cell_type": "markdown",
   "metadata": {
    "id": "efWPpQS0_eBL"
   },
   "source": [
    "### Estrutura da Rede Neural"
   ]
  },
  {
   "cell_type": "code",
   "execution_count": null,
   "metadata": {
    "id": "TFPu_9Zj_eBM"
   },
   "outputs": [],
   "source": []
  },
  {
   "cell_type": "code",
   "execution_count": 23,
   "metadata": {
    "id": "R5I4KiHO_eBM"
   },
   "outputs": [],
   "source": [
    "# Camada de entrada\n",
    "regressor = Sequential()\n",
    "regressor.add(LSTM(units = 100, return_sequences = True, input_shape = (previsores.shape[1], 1)))\n",
    "regressor.add(Dropout(0.3))\n",
    "\n",
    "# Cada Oculta 1\n",
    "regressor.add(LSTM(units = 50, return_sequences = True))\n",
    "regressor.add(Dropout(0.3))\n",
    "\n",
    "# Cada Oculta 2\n",
    "regressor.add(LSTM(units = 50, return_sequences = True))\n",
    "regressor.add(Dropout(0.3))\n",
    "\n",
    "# Cada Oculta 3\n",
    "regressor.add(LSTM(units = 50))\n",
    "regressor.add(Dropout(0.3))\n",
    "\n",
    "# Camada de Saída\n",
    "regressor.add(Dense(units = 1, activation = 'linear'))\n"
   ]
  },
  {
   "cell_type": "markdown",
   "metadata": {
    "id": "W6hwjl0c_eBM"
   },
   "source": [
    "### Construindo a Rede"
   ]
  },
  {
   "cell_type": "code",
   "execution_count": 24,
   "metadata": {
    "colab": {
     "base_uri": "https://localhost:8080/"
    },
    "id": "TF3diwQx_eBN",
    "outputId": "008fdeb5-0275-4f7c-e36a-7c781bd8304f"
   },
   "outputs": [
    {
     "name": "stdout",
     "output_type": "stream",
     "text": [
      "Epoch 1/100\n",
      "63/63 [==============================] - 18s 182ms/step - loss: 0.0106 - mean_absolute_error: 0.0587\n",
      "Epoch 2/100\n",
      "63/63 [==============================] - 11s 181ms/step - loss: 0.0032 - mean_absolute_error: 0.0332\n",
      "Epoch 3/100\n",
      "63/63 [==============================] - 11s 176ms/step - loss: 0.0027 - mean_absolute_error: 0.0317\n",
      "Epoch 4/100\n",
      "63/63 [==============================] - 11s 173ms/step - loss: 0.0026 - mean_absolute_error: 0.0285\n",
      "Epoch 5/100\n",
      "63/63 [==============================] - 11s 176ms/step - loss: 0.0022 - mean_absolute_error: 0.0284\n",
      "Epoch 6/100\n",
      "63/63 [==============================] - 11s 176ms/step - loss: 0.0020 - mean_absolute_error: 0.0280\n",
      "Epoch 7/100\n",
      "63/63 [==============================] - 12s 184ms/step - loss: 0.0020 - mean_absolute_error: 0.0256\n",
      "Epoch 8/100\n",
      "63/63 [==============================] - 12s 184ms/step - loss: 0.0021 - mean_absolute_error: 0.0266\n",
      "Epoch 9/100\n",
      "63/63 [==============================] - 12s 183ms/step - loss: 0.0016 - mean_absolute_error: 0.0252\n",
      "Epoch 10/100\n",
      "63/63 [==============================] - 12s 184ms/step - loss: 0.0019 - mean_absolute_error: 0.0246\n",
      "Epoch 11/100\n",
      "63/63 [==============================] - 11s 181ms/step - loss: 0.0012 - mean_absolute_error: 0.0222\n",
      "Epoch 12/100\n",
      "63/63 [==============================] - 11s 175ms/step - loss: 0.0016 - mean_absolute_error: 0.0228\n",
      "Epoch 13/100\n",
      "63/63 [==============================] - 11s 178ms/step - loss: 0.0016 - mean_absolute_error: 0.0235\n",
      "Epoch 14/100\n",
      "63/63 [==============================] - 11s 179ms/step - loss: 0.0014 - mean_absolute_error: 0.0227\n",
      "Epoch 15/100\n",
      "63/63 [==============================] - 11s 176ms/step - loss: 0.0012 - mean_absolute_error: 0.0206\n",
      "Epoch 16/100\n",
      "63/63 [==============================] - 11s 176ms/step - loss: 0.0013 - mean_absolute_error: 0.0212\n",
      "Epoch 17/100\n",
      "63/63 [==============================] - 11s 176ms/step - loss: 0.0010 - mean_absolute_error: 0.0206\n",
      "Epoch 18/100\n",
      "63/63 [==============================] - 11s 178ms/step - loss: 0.0010 - mean_absolute_error: 0.0197\n",
      "Epoch 19/100\n",
      "63/63 [==============================] - 11s 177ms/step - loss: 0.0012 - mean_absolute_error: 0.0204\n",
      "Epoch 20/100\n",
      "63/63 [==============================] - 11s 175ms/step - loss: 0.0011 - mean_absolute_error: 0.0206\n",
      "Epoch 21/100\n",
      "63/63 [==============================] - 11s 176ms/step - loss: 0.0013 - mean_absolute_error: 0.0207\n",
      "Epoch 22/100\n",
      "63/63 [==============================] - 11s 175ms/step - loss: 9.3160e-04 - mean_absolute_error: 0.0189\n",
      "Epoch 23/100\n",
      "63/63 [==============================] - 11s 174ms/step - loss: 9.6013e-04 - mean_absolute_error: 0.0185\n",
      "Epoch 24/100\n",
      "63/63 [==============================] - 11s 178ms/step - loss: 0.0012 - mean_absolute_error: 0.0201\n",
      "Epoch 25/100\n",
      "63/63 [==============================] - 11s 176ms/step - loss: 9.7575e-04 - mean_absolute_error: 0.0194\n",
      "Epoch 26/100\n",
      "63/63 [==============================] - 11s 175ms/step - loss: 0.0010 - mean_absolute_error: 0.0187\n",
      "Epoch 27/100\n",
      "63/63 [==============================] - 11s 177ms/step - loss: 0.0011 - mean_absolute_error: 0.0195\n",
      "Epoch 28/100\n",
      "63/63 [==============================] - 11s 177ms/step - loss: 0.0012 - mean_absolute_error: 0.0211\n",
      "Epoch 29/100\n",
      "63/63 [==============================] - 11s 178ms/step - loss: 0.0011 - mean_absolute_error: 0.0186\n",
      "Epoch 30/100\n",
      "63/63 [==============================] - 11s 181ms/step - loss: 7.8500e-04 - mean_absolute_error: 0.0185\n",
      "Epoch 31/100\n",
      "63/63 [==============================] - 11s 176ms/step - loss: 9.8730e-04 - mean_absolute_error: 0.0187\n",
      "Epoch 32/100\n",
      "63/63 [==============================] - 11s 176ms/step - loss: 0.0011 - mean_absolute_error: 0.0199\n",
      "Epoch 33/100\n",
      "63/63 [==============================] - 11s 173ms/step - loss: 0.0010 - mean_absolute_error: 0.0189\n",
      "Epoch 34/100\n",
      "63/63 [==============================] - 11s 173ms/step - loss: 0.0013 - mean_absolute_error: 0.0195\n",
      "Epoch 35/100\n",
      "63/63 [==============================] - 11s 174ms/step - loss: 9.8068e-04 - mean_absolute_error: 0.0176\n",
      "Epoch 36/100\n",
      "63/63 [==============================] - 11s 175ms/step - loss: 9.2939e-04 - mean_absolute_error: 0.0185\n",
      "Epoch 37/100\n",
      "63/63 [==============================] - 11s 175ms/step - loss: 0.0012 - mean_absolute_error: 0.0194\n",
      "Epoch 38/100\n",
      "63/63 [==============================] - 11s 174ms/step - loss: 9.6969e-04 - mean_absolute_error: 0.0182\n",
      "Epoch 39/100\n",
      "63/63 [==============================] - 11s 173ms/step - loss: 8.2974e-04 - mean_absolute_error: 0.0172\n",
      "Epoch 40/100\n",
      "63/63 [==============================] - 11s 175ms/step - loss: 8.5349e-04 - mean_absolute_error: 0.0174\n",
      "Epoch 41/100\n",
      "63/63 [==============================] - 12s 184ms/step - loss: 9.1215e-04 - mean_absolute_error: 0.0182\n",
      "Epoch 42/100\n",
      "63/63 [==============================] - 12s 187ms/step - loss: 8.4554e-04 - mean_absolute_error: 0.0177\n",
      "Epoch 43/100\n",
      "63/63 [==============================] - 12s 184ms/step - loss: 0.0011 - mean_absolute_error: 0.0192\n",
      "Epoch 44/100\n",
      "63/63 [==============================] - 12s 184ms/step - loss: 8.3003e-04 - mean_absolute_error: 0.0178\n",
      "Epoch 45/100\n",
      "63/63 [==============================] - 11s 180ms/step - loss: 8.7891e-04 - mean_absolute_error: 0.0176\n",
      "Epoch 46/100\n",
      "63/63 [==============================] - 11s 181ms/step - loss: 8.5457e-04 - mean_absolute_error: 0.0181\n",
      "Epoch 47/100\n",
      "63/63 [==============================] - 11s 179ms/step - loss: 8.8883e-04 - mean_absolute_error: 0.0176\n",
      "Epoch 48/100\n",
      "63/63 [==============================] - 11s 172ms/step - loss: 7.1617e-04 - mean_absolute_error: 0.0170\n",
      "Epoch 49/100\n",
      "63/63 [==============================] - 11s 177ms/step - loss: 7.4395e-04 - mean_absolute_error: 0.0163\n",
      "Epoch 50/100\n",
      "63/63 [==============================] - 11s 173ms/step - loss: 8.0962e-04 - mean_absolute_error: 0.0160\n",
      "Epoch 51/100\n",
      "63/63 [==============================] - 11s 173ms/step - loss: 8.9467e-04 - mean_absolute_error: 0.0171\n",
      "Epoch 52/100\n",
      "63/63 [==============================] - 11s 173ms/step - loss: 9.1947e-04 - mean_absolute_error: 0.0180\n",
      "Epoch 53/100\n",
      "63/63 [==============================] - 11s 171ms/step - loss: 7.5348e-04 - mean_absolute_error: 0.0174\n",
      "Epoch 54/100\n",
      "63/63 [==============================] - 11s 172ms/step - loss: 0.0010 - mean_absolute_error: 0.0180\n",
      "Epoch 55/100\n",
      "63/63 [==============================] - 11s 171ms/step - loss: 8.4986e-04 - mean_absolute_error: 0.0172\n",
      "Epoch 56/100\n",
      "63/63 [==============================] - 11s 177ms/step - loss: 7.0141e-04 - mean_absolute_error: 0.0167\n",
      "Epoch 57/100\n",
      "63/63 [==============================] - 11s 174ms/step - loss: 7.7178e-04 - mean_absolute_error: 0.0165\n",
      "Epoch 58/100\n",
      "63/63 [==============================] - 11s 178ms/step - loss: 8.0533e-04 - mean_absolute_error: 0.0172\n",
      "Epoch 59/100\n",
      "63/63 [==============================] - 11s 177ms/step - loss: 7.3314e-04 - mean_absolute_error: 0.0165\n",
      "Epoch 60/100\n",
      "63/63 [==============================] - 11s 177ms/step - loss: 7.0981e-04 - mean_absolute_error: 0.0161\n",
      "Epoch 61/100\n",
      "63/63 [==============================] - 11s 177ms/step - loss: 6.7033e-04 - mean_absolute_error: 0.0157\n",
      "Epoch 62/100\n",
      "63/63 [==============================] - 11s 177ms/step - loss: 7.7409e-04 - mean_absolute_error: 0.0160\n",
      "Epoch 63/100\n",
      "63/63 [==============================] - 11s 177ms/step - loss: 7.0291e-04 - mean_absolute_error: 0.0157\n",
      "Epoch 64/100\n",
      "63/63 [==============================] - 11s 179ms/step - loss: 8.6078e-04 - mean_absolute_error: 0.0171\n",
      "Epoch 65/100\n",
      "63/63 [==============================] - 12s 183ms/step - loss: 9.4839e-04 - mean_absolute_error: 0.0178\n",
      "Epoch 66/100\n",
      "63/63 [==============================] - 11s 181ms/step - loss: 5.9985e-04 - mean_absolute_error: 0.0158\n",
      "Epoch 67/100\n",
      "63/63 [==============================] - 12s 186ms/step - loss: 6.8990e-04 - mean_absolute_error: 0.0164\n",
      "Epoch 68/100\n",
      "63/63 [==============================] - 11s 181ms/step - loss: 8.1053e-04 - mean_absolute_error: 0.0164\n",
      "Epoch 69/100\n",
      "63/63 [==============================] - 11s 176ms/step - loss: 7.3680e-04 - mean_absolute_error: 0.0160\n",
      "Epoch 70/100\n",
      "63/63 [==============================] - 11s 175ms/step - loss: 8.0002e-04 - mean_absolute_error: 0.0161\n",
      "Epoch 71/100\n",
      "63/63 [==============================] - 11s 175ms/step - loss: 7.6728e-04 - mean_absolute_error: 0.0158\n",
      "Epoch 72/100\n",
      "63/63 [==============================] - 11s 175ms/step - loss: 7.9832e-04 - mean_absolute_error: 0.0162\n",
      "Epoch 73/100\n",
      "63/63 [==============================] - 11s 176ms/step - loss: 7.4304e-04 - mean_absolute_error: 0.0164\n",
      "Epoch 74/100\n",
      "63/63 [==============================] - 11s 181ms/step - loss: 6.9806e-04 - mean_absolute_error: 0.0159\n",
      "Epoch 75/100\n",
      "63/63 [==============================] - 11s 178ms/step - loss: 7.9505e-04 - mean_absolute_error: 0.0165\n",
      "Epoch 76/100\n",
      "63/63 [==============================] - 11s 179ms/step - loss: 6.8144e-04 - mean_absolute_error: 0.0159\n",
      "Epoch 77/100\n",
      "63/63 [==============================] - 11s 175ms/step - loss: 7.8674e-04 - mean_absolute_error: 0.0162\n",
      "Epoch 78/100\n",
      "63/63 [==============================] - 11s 175ms/step - loss: 7.3630e-04 - mean_absolute_error: 0.0158\n",
      "Epoch 79/100\n",
      "63/63 [==============================] - 11s 172ms/step - loss: 5.9120e-04 - mean_absolute_error: 0.0156\n",
      "Epoch 80/100\n",
      "63/63 [==============================] - 10s 166ms/step - loss: 7.6319e-04 - mean_absolute_error: 0.0161\n",
      "Epoch 81/100\n",
      "63/63 [==============================] - 11s 167ms/step - loss: 9.2105e-04 - mean_absolute_error: 0.0170\n",
      "Epoch 82/100\n",
      "63/63 [==============================] - 11s 171ms/step - loss: 6.3826e-04 - mean_absolute_error: 0.0158\n",
      "Epoch 83/100\n",
      "63/63 [==============================] - 11s 175ms/step - loss: 7.0190e-04 - mean_absolute_error: 0.0156\n",
      "Epoch 84/100\n",
      "63/63 [==============================] - 11s 173ms/step - loss: 7.9875e-04 - mean_absolute_error: 0.0166\n",
      "Epoch 85/100\n",
      "63/63 [==============================] - 11s 174ms/step - loss: 7.7809e-04 - mean_absolute_error: 0.0162\n",
      "Epoch 86/100\n",
      "63/63 [==============================] - 11s 175ms/step - loss: 6.4176e-04 - mean_absolute_error: 0.0147\n",
      "Epoch 87/100\n",
      "63/63 [==============================] - 11s 178ms/step - loss: 7.2543e-04 - mean_absolute_error: 0.0153\n",
      "Epoch 88/100\n",
      "63/63 [==============================] - 11s 179ms/step - loss: 8.3206e-04 - mean_absolute_error: 0.0163\n",
      "Epoch 89/100\n",
      "63/63 [==============================] - 11s 177ms/step - loss: 7.9672e-04 - mean_absolute_error: 0.0157\n",
      "Epoch 90/100\n",
      "63/63 [==============================] - 11s 173ms/step - loss: 7.2527e-04 - mean_absolute_error: 0.0155\n",
      "Epoch 91/100\n",
      "63/63 [==============================] - 11s 174ms/step - loss: 7.6337e-04 - mean_absolute_error: 0.0156\n",
      "Epoch 92/100\n",
      "63/63 [==============================] - 11s 174ms/step - loss: 5.4174e-04 - mean_absolute_error: 0.0143\n",
      "Epoch 93/100\n",
      "63/63 [==============================] - 11s 174ms/step - loss: 8.3118e-04 - mean_absolute_error: 0.0164\n",
      "Epoch 94/100\n",
      "63/63 [==============================] - 11s 178ms/step - loss: 5.6554e-04 - mean_absolute_error: 0.0144\n",
      "Epoch 95/100\n",
      "63/63 [==============================] - 11s 175ms/step - loss: 6.7491e-04 - mean_absolute_error: 0.0144\n",
      "Epoch 96/100\n",
      "63/63 [==============================] - 11s 180ms/step - loss: 6.5369e-04 - mean_absolute_error: 0.0161\n",
      "Epoch 97/100\n",
      "63/63 [==============================] - 11s 175ms/step - loss: 5.4592e-04 - mean_absolute_error: 0.0152\n",
      "Epoch 98/100\n",
      "63/63 [==============================] - 11s 175ms/step - loss: 6.7181e-04 - mean_absolute_error: 0.0155\n",
      "Epoch 99/100\n",
      "63/63 [==============================] - 11s 173ms/step - loss: 7.1616e-04 - mean_absolute_error: 0.0154\n",
      "Epoch 100/100\n",
      "63/63 [==============================] - 11s 177ms/step - loss: 7.2076e-04 - mean_absolute_error: 0.0162\n"
     ]
    },
    {
     "data": {
      "text/plain": [
       "<tensorflow.python.keras.callbacks.History at 0x7fd1f5b2b950>"
      ]
     },
     "execution_count": 24,
     "metadata": {
      "tags": []
     },
     "output_type": "execute_result"
    }
   ],
   "source": [
    "regressor.compile(optimizer = 'rmsprop', loss = 'mean_squared_error',\n",
    "                  metrics = ['mean_absolute_error'])\n",
    "regressor.fit(previsores, preco_real, epochs = 100, batch_size = 32)"
   ]
  },
  {
   "cell_type": "markdown",
   "metadata": {
    "id": "zEDXCjij_eBN"
   },
   "source": [
    "### Conjunto de dados para o Teste"
   ]
  },
  {
   "cell_type": "code",
   "execution_count": 25,
   "metadata": {
    "id": "GswwlpaQ_eBN"
   },
   "outputs": [],
   "source": [
    "DataSet_teste=pd.read_csv('FuturosEthereum-teste.csv')\n",
    "\n",
    "preco_real_teste = DataSet_teste.iloc[:, 1:2].values\n",
    "\n",
    "base_completa = pd.concat((DataSet['Open'], DataSet_teste['Open']), axis = 0)\n",
    "entradas = base_completa[len(base_completa) - len(DataSet_teste) - NRecursao:].values\n",
    "\n",
    "entradas = entradas.reshape(-1, 1)\n",
    "entradas = scaler.transform(entradas)"
   ]
  },
  {
   "cell_type": "code",
   "execution_count": 26,
   "metadata": {
    "id": "0phdBJcW_eBO"
   },
   "outputs": [],
   "source": [
    "DataSetTestLen = len(DataSet_teste)\n",
    "NPredictions = 90\n",
    "\n",
    "X_teste = []\n",
    "for i in range(NRecursao, DataSetTestLen+NRecursao):\n",
    "    X_teste.append(entradas[i-NRecursao:i, 0])\n",
    "    \n",
    "X_teste = np.array(X_teste)\n",
    "X_teste = np.reshape(X_teste, (X_teste.shape[0], X_teste.shape[1], 1))\n",
    "\n",
    "previsoes = regressor.predict(X_teste)\n",
    "previsoes = scaler.inverse_transform(previsoes)\n"
   ]
  },
  {
   "cell_type": "code",
   "execution_count": 27,
   "metadata": {
    "colab": {
     "base_uri": "https://localhost:8080/"
    },
    "id": "6_r3a2_0_eBO",
    "outputId": "39f5f33b-5647-492e-eb93-837969000957"
   },
   "outputs": [
    {
     "name": "stdout",
     "output_type": "stream",
     "text": [
      "2096.7557163208708\n",
      "2823.6003\n",
      "3455.175944095238\n"
     ]
    }
   ],
   "source": [
    "RNN=[]\n",
    "predictions_teste=X_teste[0].T\n",
    "predictions_teste=np.reshape(predictions_teste, (predictions_teste.shape[0], predictions_teste.shape[1], 1))\n",
    "\n",
    "predictions_teste[0][NRecursao-1][0]=regressor.predict(predictions_teste)[0][0]\n",
    "RNN.append(regressor.predict(predictions_teste)[0])\n",
    "\n",
    "for i in range(NPredictions-1):\n",
    "    predictions_teste=np.roll(predictions_teste,-1)\n",
    "    predictions_teste[0][NRecursao-1][0]=regressor.predict(predictions_teste)[0][0]\n",
    "    RNN.append(regressor.predict(predictions_teste)[0])\n",
    "RNN = scaler.inverse_transform(RNN)\n",
    "\n",
    "print(RNN.mean())\n",
    "print(previsoes.mean())\n",
    "print(preco_real_teste.mean())"
   ]
  },
  {
   "cell_type": "code",
   "execution_count": 28,
   "metadata": {
    "colab": {
     "base_uri": "https://localhost:8080/",
     "height": 295
    },
    "id": "rVXWLTOB_eBP",
    "outputId": "c127932d-68c2-4605-eb17-105195a044a8"
   },
   "outputs": [
    {
     "data": {
      "image/png": "[encoded data removed]",
      "text/plain": [
       "<Figure size 432x288 with 1 Axes>"
      ]
     },
     "metadata": {
      "needs_background": "light",
      "tags": []
     },
     "output_type": "display_data"
    }
   ],
   "source": [
    "plt.plot(preco_real_teste, color = 'red', label = 'Preço real')\n",
    "plt.plot(previsoes, color = 'blue', label = 'Previsões')\n",
    "#plt.plot(RNN, color = 'green', label = 'RNN')\n",
    "\n",
    "plt.title('ETHEREUM')\n",
    "plt.xlabel('Tempo')\n",
    "plt.ylabel('Valor')\n",
    "plt.legend()\n",
    "plt.show()"
   ]
  },
  {
   "cell_type": "code",
   "execution_count": 29,
   "metadata": {
    "colab": {
     "base_uri": "https://localhost:8080/"
    },
    "id": "ibs94A1E_eBQ",
    "outputId": "03f52f00-5e6c-44e0-f131-7782b24aa22a"
   },
   "outputs": [
    {
     "data": {
      "text/plain": [
       "(21, 1)"
      ]
     },
     "execution_count": 29,
     "metadata": {
      "tags": []
     },
     "output_type": "execute_result"
    }
   ],
   "source": [
    "np.shape(previsoes)"
   ]
  },
  {
   "cell_type": "code",
   "execution_count": null,
   "metadata": {
    "id": "A6NGEPzE_eBQ"
   },
   "outputs": [],
   "source": []
  }
 ],
 "metadata": {
  "colab": {
   "collapsed_sections": [],
   "name": "TrabalhoLSTM.ipynb",
   "provenance": []
  },
  "kernelspec": {
   "display_name": "Python 3",
   "language": "python",
   "name": "python3"
  },
  "language_info": {
   "codemirror_mode": {
    "name": "ipython",
    "version": 3
   },
   "file_extension": ".py",
   "mimetype": "text/x-python",
   "name": "python",
   "nbconvert_exporter": "python",
   "pygments_lexer": "ipython3",
   "version": "3.8.8"
  }
 },
 "nbformat": 4,
 "nbformat_minor": 1
}
