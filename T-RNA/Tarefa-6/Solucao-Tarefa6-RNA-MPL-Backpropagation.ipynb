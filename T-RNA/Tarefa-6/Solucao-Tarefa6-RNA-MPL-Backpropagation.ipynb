{
  "nbformat": 4,
  "nbformat_minor": 0,
  "metadata": {
    "kernelspec": {
      "display_name": "Python 3",
      "language": "python",
      "name": "python3"
    },
    "language_info": {
      "codemirror_mode": {
        "name": "ipython",
        "version": 3
      },
      "file_extension": ".py",
      "mimetype": "text/x-python",
      "name": "python",
      "nbconvert_exporter": "python",
      "pygments_lexer": "ipython3",
      "version": "3.7.3"
    },
    "colab": {
      "name": "Tarefa6 - RNA MPL Backpropagation.ipynb",
      "provenance": []
    }
  },
  "cells": [
    {
      "cell_type": "markdown",
      "metadata": {
        "id": "TR4gjxkNu8j2"
      },
      "source": [
        "# Implementação do Algoritmo Backpropagation\n",
        "\n",
        "A ideia do algoritmo backpropagation é, com base no cálculo do erro ocorrido na camada de saída da rede neural, recalcular o valor dos pesos do vetor w da camada última camada de neurônios e assim proceder para as camadas anteriores, de trás para a frente (fase *backward*), ou seja, atualizar todos os pesos w das camadas a partir da última até atingir a camada de entrada da rede, para isso realizando a retropropagação o erro obtido pela rede. \n",
        "\n",
        "A imagem a seguir mostra a nossa rede, com as unidades de entrada marcadas como Input1, Input2 e Input3 (**Input Layer**) conectadas com os *nós* da camada oculta (**Hidden Layer**). Por sua vez as saída dos *nós* da camada oculda servem como entrada para os *nós*  da camada de saída (**Output Layer**). <img src='MPL_back.png' /><br>\n",
        "\n",
        "O DataSet utilizado para o treinamento da MPL 3x4x2 é o **\"Data.csv\"**, o qual possui informações dispostas em colunas:\n",
        "\n",
        "* **Input1**:  Entrada 1 da MPL.\n",
        "* **Input2**:  Entrada 2 da MPL.\n",
        "* **Input3**:  Entrada 3 da MPL.\n",
        "* **Output1**:  Saída 1 da MPL.\n",
        "* **Output2**:  Saída 2 da MPL.\n",
        "\n",
        "\n",
        "### Bibliotecas"
      ]
    },
    {
      "cell_type": "code",
      "metadata": {
        "id": "Q2bRr7dMu8kA"
      },
      "source": [
        "import pandas as pd\n",
        "import numpy as np\n",
        "import matplotlib.pyplot as plt\n",
        "import seaborn as sns\n",
        "%matplotlib inline\n",
        "\n",
        "#Função do cáculo da sigmóide\n",
        "def sigmoid(x):\n",
        "    return 1/(1+np.exp(-x))"
      ],
      "execution_count": 1,
      "outputs": []
    },
    {
      "cell_type": "markdown",
      "metadata": {
        "id": "Zoiovsfuu8kC"
      },
      "source": [
        "### Carregando os dados\n",
        "\n",
        "Para que uma rede dessas funcione, é preciso treiná-la. O treinamento de uma rede MLP insere-se no contexto de aprendizado de máquina supervisionado, em que cada amostra de dados utilizada apresenta um rótulo informando a que classificação ela se encaixa. Assim, utilizaremos um arquivo Data.csv como dataset para treinamento da nossa MPL.\n",
        "\n",
        "Vamos começar lendo o arquivo Data.csv em um dataframe do pandas."
      ]
    },
    {
      "cell_type": "code",
      "metadata": {
        "id": "5PayGchiu8kD"
      },
      "source": [
        "DataSet=pd.read_csv('Data.csv')"
      ],
      "execution_count": 2,
      "outputs": []
    },
    {
      "cell_type": "code",
      "metadata": {
        "colab": {
          "base_uri": "https://localhost:8080/",
          "height": 206
        },
        "id": "zrRsDR7Qu8kF",
        "outputId": "69249988-3d84-4393-e086-7b04a7eb6d0f"
      },
      "source": [
        "DataSet.head()"
      ],
      "execution_count": 3,
      "outputs": [
        {
          "output_type": "execute_result",
          "data": {
            "text/html": [
              "<div>\n",
              "<style scoped>\n",
              "    .dataframe tbody tr th:only-of-type {\n",
              "        vertical-align: middle;\n",
              "    }\n",
              "\n",
              "    .dataframe tbody tr th {\n",
              "        vertical-align: top;\n",
              "    }\n",
              "\n",
              "    .dataframe thead th {\n",
              "        text-align: right;\n",
              "    }\n",
              "</style>\n",
              "<table border=\"1\" class=\"dataframe\">\n",
              "  <thead>\n",
              "    <tr style=\"text-align: right;\">\n",
              "      <th></th>\n",
              "      <th>Input1</th>\n",
              "      <th>Input2</th>\n",
              "      <th>Input3</th>\n",
              "      <th>Output1</th>\n",
              "      <th>Output2</th>\n",
              "    </tr>\n",
              "  </thead>\n",
              "  <tbody>\n",
              "    <tr>\n",
              "      <th>0</th>\n",
              "      <td>0.93</td>\n",
              "      <td>0.23</td>\n",
              "      <td>0.73</td>\n",
              "      <td>0.41</td>\n",
              "      <td>0.42</td>\n",
              "    </tr>\n",
              "    <tr>\n",
              "      <th>1</th>\n",
              "      <td>0.49</td>\n",
              "      <td>0.85</td>\n",
              "      <td>0.50</td>\n",
              "      <td>0.41</td>\n",
              "      <td>0.81</td>\n",
              "    </tr>\n",
              "    <tr>\n",
              "      <th>2</th>\n",
              "      <td>0.86</td>\n",
              "      <td>0.04</td>\n",
              "      <td>0.68</td>\n",
              "      <td>0.35</td>\n",
              "      <td>0.22</td>\n",
              "    </tr>\n",
              "    <tr>\n",
              "      <th>3</th>\n",
              "      <td>0.71</td>\n",
              "      <td>0.29</td>\n",
              "      <td>0.30</td>\n",
              "      <td>0.24</td>\n",
              "      <td>0.67</td>\n",
              "    </tr>\n",
              "    <tr>\n",
              "      <th>4</th>\n",
              "      <td>0.96</td>\n",
              "      <td>0.78</td>\n",
              "      <td>0.82</td>\n",
              "      <td>0.56</td>\n",
              "      <td>0.89</td>\n",
              "    </tr>\n",
              "  </tbody>\n",
              "</table>\n",
              "</div>"
            ],
            "text/plain": [
              "   Input1  Input2  Input3  Output1  Output2\n",
              "0    0.93    0.23    0.73     0.41     0.42\n",
              "1    0.49    0.85    0.50     0.41     0.81\n",
              "2    0.86    0.04    0.68     0.35     0.22\n",
              "3    0.71    0.29    0.30     0.24     0.67\n",
              "4    0.96    0.78    0.82     0.56     0.89"
            ]
          },
          "metadata": {
            "tags": []
          },
          "execution_count": 3
        }
      ]
    },
    {
      "cell_type": "code",
      "metadata": {
        "colab": {
          "base_uri": "https://localhost:8080/",
          "height": 206
        },
        "id": "5oUy37vNu8kI",
        "outputId": "769518fb-aa6b-4dd4-fe7a-0e4043cf9f2d"
      },
      "source": [
        "DataSet.head()"
      ],
      "execution_count": 4,
      "outputs": [
        {
          "output_type": "execute_result",
          "data": {
            "text/html": [
              "<div>\n",
              "<style scoped>\n",
              "    .dataframe tbody tr th:only-of-type {\n",
              "        vertical-align: middle;\n",
              "    }\n",
              "\n",
              "    .dataframe tbody tr th {\n",
              "        vertical-align: top;\n",
              "    }\n",
              "\n",
              "    .dataframe thead th {\n",
              "        text-align: right;\n",
              "    }\n",
              "</style>\n",
              "<table border=\"1\" class=\"dataframe\">\n",
              "  <thead>\n",
              "    <tr style=\"text-align: right;\">\n",
              "      <th></th>\n",
              "      <th>Input1</th>\n",
              "      <th>Input2</th>\n",
              "      <th>Input3</th>\n",
              "      <th>Output1</th>\n",
              "      <th>Output2</th>\n",
              "    </tr>\n",
              "  </thead>\n",
              "  <tbody>\n",
              "    <tr>\n",
              "      <th>0</th>\n",
              "      <td>0.93</td>\n",
              "      <td>0.23</td>\n",
              "      <td>0.73</td>\n",
              "      <td>0.41</td>\n",
              "      <td>0.42</td>\n",
              "    </tr>\n",
              "    <tr>\n",
              "      <th>1</th>\n",
              "      <td>0.49</td>\n",
              "      <td>0.85</td>\n",
              "      <td>0.50</td>\n",
              "      <td>0.41</td>\n",
              "      <td>0.81</td>\n",
              "    </tr>\n",
              "    <tr>\n",
              "      <th>2</th>\n",
              "      <td>0.86</td>\n",
              "      <td>0.04</td>\n",
              "      <td>0.68</td>\n",
              "      <td>0.35</td>\n",
              "      <td>0.22</td>\n",
              "    </tr>\n",
              "    <tr>\n",
              "      <th>3</th>\n",
              "      <td>0.71</td>\n",
              "      <td>0.29</td>\n",
              "      <td>0.30</td>\n",
              "      <td>0.24</td>\n",
              "      <td>0.67</td>\n",
              "    </tr>\n",
              "    <tr>\n",
              "      <th>4</th>\n",
              "      <td>0.96</td>\n",
              "      <td>0.78</td>\n",
              "      <td>0.82</td>\n",
              "      <td>0.56</td>\n",
              "      <td>0.89</td>\n",
              "    </tr>\n",
              "  </tbody>\n",
              "</table>\n",
              "</div>"
            ],
            "text/plain": [
              "   Input1  Input2  Input3  Output1  Output2\n",
              "0    0.93    0.23    0.73     0.41     0.42\n",
              "1    0.49    0.85    0.50     0.41     0.81\n",
              "2    0.86    0.04    0.68     0.35     0.22\n",
              "3    0.71    0.29    0.30     0.24     0.67\n",
              "4    0.96    0.78    0.82     0.56     0.89"
            ]
          },
          "metadata": {
            "tags": []
          },
          "execution_count": 4
        }
      ]
    },
    {
      "cell_type": "markdown",
      "metadata": {
        "id": "7Mg-M3k_u8kJ"
      },
      "source": [
        "### Váriaveis do *Dataset*"
      ]
    },
    {
      "cell_type": "code",
      "metadata": {
        "colab": {
          "base_uri": "https://localhost:8080/"
        },
        "id": "MtKj3cxju8kK",
        "outputId": "fd5441fe-7dec-4bf0-bba0-b863e7a545ed"
      },
      "source": [
        "DataSet.columns"
      ],
      "execution_count": 5,
      "outputs": [
        {
          "output_type": "execute_result",
          "data": {
            "text/plain": [
              "Index(['Input1', 'Input2', 'Input3', 'Output1', 'Output2'], dtype='object')"
            ]
          },
          "metadata": {
            "tags": []
          },
          "execution_count": 5
        }
      ]
    },
    {
      "cell_type": "markdown",
      "metadata": {
        "id": "VHGI7Gjou8kK"
      },
      "source": [
        "## Separando os dados de treinamento e de validação\n",
        "\n",
        "Agora vamos dividir os dados em um conjunto de treinamento e um conjunto de testes. Vamos treinar o modelo no conjunto de treinamento, em seguida, usar o conjunto de teste para validar o modelo.\n",
        "\n",
        "Em nosso exemplo iremos separar de forma randômica 33% dos dados para validação. Estes dados não serão utilizados para determinação dos coeficientes preditores do modelo. \n"
      ]
    },
    {
      "cell_type": "code",
      "metadata": {
        "id": "fMBTMyFgu8kL"
      },
      "source": [
        "from sklearn.model_selection import train_test_split"
      ],
      "execution_count": 6,
      "outputs": []
    },
    {
      "cell_type": "code",
      "metadata": {
        "id": "2puT4I4Xu8kM"
      },
      "source": [
        "X_train, X_test, y_train, y_test = train_test_split(DataSet.drop(['Output1', 'Output2'],axis=1), \n",
        "                                                   DataSet[['Output1', 'Output2']], test_size=0.30, \n",
        "                                                    random_state=101)"
      ],
      "execution_count": 7,
      "outputs": []
    },
    {
      "cell_type": "markdown",
      "metadata": {
        "id": "RlF1rO2nu8kO"
      },
      "source": [
        "## Configuração da MPL"
      ]
    },
    {
      "cell_type": "code",
      "metadata": {
        "id": "FcE1Jpcyu8kP"
      },
      "source": [
        "#Tamanho do DataSet de Treinamento\n",
        "n_records, n_features = X_train.shape\n",
        "\n",
        "#Arquitetura da MPL\n",
        "N_input = 3\n",
        "N_hidden = 4\n",
        "N_output = 2\n",
        "learnrate = 0.5"
      ],
      "execution_count": 8,
      "outputs": []
    },
    {
      "cell_type": "markdown",
      "metadata": {
        "id": "0HcVTjiOu8kP"
      },
      "source": [
        "## Inicialização dos pesos da MPL (Aleatório)"
      ]
    },
    {
      "cell_type": "code",
      "metadata": {
        "colab": {
          "base_uri": "https://localhost:8080/"
        },
        "id": "av_ZZ6PYu8kQ",
        "outputId": "d1c4c5e7-8058-4d65-8464-f1a30fd80734"
      },
      "source": [
        "#Pesos da Camada Oculta (Inicialização Aleatória)\n",
        "weights_input_hidden = np.random.normal(0, scale=0.1, size=(N_input, N_hidden))\n",
        "print('Pesos da Camada Oculta:')\n",
        "print(weights_input_hidden)\n",
        "\n",
        "#Pesos da Camada de Saída (Inicialização Aleatória)\n",
        "weights_hidden_output = np.random.normal(0, scale=0.1, size=(N_hidden, N_output))\n",
        "print('Pesos da Camada de Saída:')\n",
        "print(weights_hidden_output)"
      ],
      "execution_count": 9,
      "outputs": [
        {
          "output_type": "stream",
          "text": [
            "Pesos da Camada Oculta:\n",
            "[[ 0.06437303 -0.13626963 -0.0183772  -0.05371014]\n",
            " [-0.0919449  -0.09168483 -0.19670838  0.07139244]\n",
            " [ 0.08186578 -0.03777275  0.02786526 -0.0461809 ]]\n",
            "Pesos da Camada de Saída:\n",
            "[[-0.01966511 -0.01092425]\n",
            " [ 0.05457469  0.1447764 ]\n",
            " [-0.17469743 -0.03738838]\n",
            " [ 0.08715709  0.12952557]]\n"
          ],
          "name": "stdout"
        }
      ]
    },
    {
      "cell_type": "markdown",
      "metadata": {
        "id": "9Jaq7Cgpu8kR"
      },
      "source": [
        "## Algoritmo Backpropagation\n",
        "\n"
      ]
    },
    {
      "cell_type": "code",
      "metadata": {
        "colab": {
          "base_uri": "https://localhost:8080/"
        },
        "id": "RbSeqHfou8kR",
        "outputId": "a62bc760-ac87-4649-e5d6-b7e9d4e2e70e"
      },
      "source": [
        "epochs = 5000\n",
        "last_loss=None\n",
        "EvolucaoError=[]\n",
        "IndiceError=[]\n",
        "\n",
        "for e in range(epochs):\n",
        "    delta_w_i_h = np.zeros(weights_input_hidden.shape)\n",
        "    delta_w_h_o = np.zeros(weights_hidden_output.shape)\n",
        "    for xi, yi in zip(X_train.values, y_train.values):\n",
        "        \n",
        "# Forward Pass\n",
        "        #Camada oculta\n",
        "        #Calcule a combinação linear de entradas e pesos sinápticos\n",
        "        hidden_layer_input = np.dot(xi, weights_input_hidden)\n",
        "        #Aplicado a função de ativação\n",
        "        hidden_layer_output = sigmoid(hidden_layer_input)\n",
        "    \n",
        "        #Camada de Saída\n",
        "        #Calcule a combinação linear de entradas e pesos sinápticos\n",
        "        output_layer_in = np.dot(hidden_layer_output, weights_hidden_output)\n",
        "\n",
        "        #Aplicado a função de ativação \n",
        "        output = sigmoid(output_layer_in)\n",
        "        #print('As saídas da rede são',output)\n",
        "#-------------------------------------------    \n",
        "    \n",
        "# Backward Pass\n",
        "        ## TODO: Cálculo do Erro\n",
        "        error = yi - output\n",
        "    \n",
        "        # TODO: Calcule o termo de erro de saída (Gradiente da Camada de Saída)\n",
        "        output_error_term = error * output * (1 - output)\n",
        "\n",
        "        # TODO: Calcule a contribuição da camada oculta para o erro\n",
        "        hidden_error = np.dot(weights_hidden_output,output_error_term)\n",
        "    \n",
        "        # TODO: Calcule o termo de erro da camada oculta (Gradiente da Camada Oculta)\n",
        "        hidden_error_term = hidden_error * hidden_layer_output * (1 - hidden_layer_output)\n",
        "    \n",
        "        # TODO: Calcule a variação do peso da camada de saída\n",
        "        delta_w_h_o += output_error_term*hidden_layer_output[:, None]\n",
        "\n",
        "        # TODO: Calcule a variação do peso da camada oculta\n",
        "        delta_w_i_h += hidden_error_term * xi[:, None]\n",
        "        \n",
        "    #Atualização dos pesos na época em questão\n",
        "    weights_input_hidden += learnrate * delta_w_i_h / n_records\n",
        "    weights_hidden_output += learnrate * delta_w_h_o / n_records\n",
        "    \n",
        "    \n",
        "    # Imprimir o erro quadrático médio no conjunto de treinamento\n",
        "    \n",
        "    if  e % (epochs / 20) == 0:\n",
        "        hidden_output = sigmoid(np.dot(xi, weights_input_hidden))\n",
        "        out = sigmoid(np.dot(hidden_output,\n",
        "                             weights_hidden_output))\n",
        "        loss = np.mean((out - yi) ** 2)\n",
        "\n",
        "        if last_loss and last_loss < loss:\n",
        "            print(\"Erro quadrático no treinamento: \", loss, \" Atenção: O erro está aumentando\")\n",
        "        else:\n",
        "            print(\"Erro quadrático no treinamento: \", loss)\n",
        "        last_loss = loss\n",
        "         \n",
        "        EvolucaoError.append(loss)\n",
        "        IndiceError.append(e)"
      ],
      "execution_count": 10,
      "outputs": [
        {
          "output_type": "stream",
          "text": [
            "Erro quadrático no treinamento:  0.18775968415781116\n",
            "Erro quadrático no treinamento:  0.2759296058922365  Atenção: O erro está aumentando\n",
            "Erro quadrático no treinamento:  0.1956492505720719\n",
            "Erro quadrático no treinamento:  0.08631834127647167\n",
            "Erro quadrático no treinamento:  0.05084265667363102\n",
            "Erro quadrático no treinamento:  0.03799051235859129\n",
            "Erro quadrático no treinamento:  0.03206014245905718\n",
            "Erro quadrático no treinamento:  0.028768514284645646\n",
            "Erro quadrático no treinamento:  0.02667737402056562\n",
            "Erro quadrático no treinamento:  0.025211513809159605\n",
            "Erro quadrático no treinamento:  0.02411268020836287\n",
            "Erro quadrático no treinamento:  0.023253440025671243\n",
            "Erro quadrático no treinamento:  0.022564488493381503\n",
            "Erro quadrático no treinamento:  0.022003936330157552\n",
            "Erro quadrático no treinamento:  0.02154362430804599\n",
            "Erro quadrático no treinamento:  0.021162815949794644\n",
            "Erro quadrático no treinamento:  0.020845258278021327\n",
            "Erro quadrático no treinamento:  0.020577810602487995\n",
            "Erro quadrático no treinamento:  0.020349775575473496\n",
            "Erro quadrático no treinamento:  0.020152509682942677\n"
          ],
          "name": "stdout"
        }
      ]
    },
    {
      "cell_type": "markdown",
      "metadata": {
        "id": "5oYdVoogu8kS"
      },
      "source": [
        "### Gráfico da Evolução do Erro"
      ]
    },
    {
      "cell_type": "code",
      "metadata": {
        "colab": {
          "base_uri": "https://localhost:8080/",
          "height": 281
        },
        "id": "m3go9-dKu8kS",
        "outputId": "71854cd8-1f73-4a06-839e-46622200ac3a"
      },
      "source": [
        "plt.plot(IndiceError, EvolucaoError, 'r') # 'r' is the color red\n",
        "plt.xlabel('')\n",
        "plt.ylabel('Erro Quadrático')\n",
        "plt.title('Evolução do Erro no treinamento da MPL')\n",
        "plt.show()"
      ],
      "execution_count": 11,
      "outputs": [
        {
          "output_type": "display_data",
          "data": {
            "image/png": "[encoded data removed]",
            "text/plain": [
              "<Figure size 432x288 with 1 Axes>"
            ]
          },
          "metadata": {
            "tags": [],
            "needs_background": "light"
          }
        }
      ]
    },
    {
      "cell_type": "markdown",
      "metadata": {
        "id": "JZujuSSau8kT"
      },
      "source": [
        "\n",
        "## Validação do modelo"
      ]
    },
    {
      "cell_type": "code",
      "metadata": {
        "colab": {
          "base_uri": "https://localhost:8080/"
        },
        "id": "iTlmXBXWu8kU",
        "outputId": "45af4296-e506-4bc3-d301-1fedced1d254"
      },
      "source": [
        "# Calcule a precisão dos dados de teste\n",
        "n_records, n_features = X_test.shape\n",
        "MSE_Output1=0\n",
        "MSE_Output2=0\n",
        "\n",
        "for xi, yi in zip(X_test.values, y_test.values):\n",
        "\n",
        "# Forward Pass\n",
        "        #Camada oculta\n",
        "        #Calcule a combinação linear de entradas e pesos sinápticos\n",
        "        hidden_layer_input = np.dot(xi, weights_input_hidden)\n",
        "        #Aplicado a função de ativação\n",
        "        hidden_layer_output = sigmoid(hidden_layer_input)\n",
        "    \n",
        "        #Camada de Saída\n",
        "        #Calcule a combinação linear de entradas e pesos sinápticos\n",
        "        output_layer_in = np.dot(hidden_layer_output, weights_hidden_output)\n",
        "\n",
        "        #Aplicado a função de ativação \n",
        "        output = sigmoid(output_layer_in)\n",
        "        \n",
        "#-------------------------------------------    \n",
        "    \n",
        "#Cálculo do Erro\n",
        "        ## TODO: Cálculo do Erro\n",
        "        error = yi - output\n",
        "        MSE_Output1 += (yi[0] - output[0])**2\n",
        "        MSE_Output2 += (yi[1] - output[1])**2\n",
        "          \n",
        "#Erro Quadrático Médio \n",
        "MSE_Output1/=n_records \n",
        "MSE_Output2/=n_records  \n",
        "\n",
        "print('Erro Quadrático Médio da Saída Output1 é: ',MSE_Output1)\n",
        "print('Erro Quadrático Médio da Saída Output2 é: ',MSE_Output2)"
      ],
      "execution_count": 12,
      "outputs": [
        {
          "output_type": "stream",
          "text": [
            "Erro Quadrático Médio da Saída Output1 é:  0.011440064538077666\n",
            "Erro Quadrático Médio da Saída Output2 é:  0.004263337950546815\n"
          ],
          "name": "stdout"
        }
      ]
    },
    {
      "cell_type": "markdown",
      "metadata": {
        "id": "R6kd2GPEu8kU"
      },
      "source": [
        "## Métricas de Avaliação\n",
        "\n",
        "Aqui estão três métricas comuns de avaliação para problemas de regressão:\n",
        "\n",
        "\n",
        "- **Erro Médio Absoluto** (MAE): é a média do valor absoluto dos erros.\n",
        "\n",
        "- **Erro Quadrático Médio** (MSE): é a média do quadrado dos erros.\n",
        "\n",
        "- **Raiz do Erro Médio Quadrático** (RMSE): é a raiz da média do quadrado dos erro.\n",
        "\n",
        "\n",
        "O objetivo é sempre minimizar estas funções de Erro."
      ]
    },
    {
      "cell_type": "code",
      "metadata": {
        "id": "kY1ZY1P9u8kU"
      },
      "source": [
        ""
      ],
      "execution_count": null,
      "outputs": []
    }
  ]
}