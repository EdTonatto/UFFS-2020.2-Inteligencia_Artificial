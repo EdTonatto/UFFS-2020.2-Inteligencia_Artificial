{
  "nbformat": 4,
  "nbformat_minor": 0,
  "metadata": {
    "kernelspec": {
      "display_name": "Python 3",
      "language": "python",
      "name": "python3"
    },
    "language_info": {
      "codemirror_mode": {
        "name": "ipython",
        "version": 3
      },
      "file_extension": ".py",
      "mimetype": "text/x-python",
      "name": "python",
      "nbconvert_exporter": "python",
      "pygments_lexer": "ipython3",
      "version": "3.7.3"
    },
    "colab": {
      "name": "Tarefa1 - RNA simples.ipynb",
      "provenance": [],
      "collapsed_sections": []
    }
  },
  "cells": [
    {
      "cell_type": "markdown",
      "metadata": {
        "id": "A0MLxgwlgEc9"
      },
      "source": [
        "# Rede Neural Simples\n",
        "\n",
        "### Implementando uma RNA Simples\n",
        "\n",
        "O diagrama abaixo mostra uma rede simples. A combinação linear dos pesos, inputs e viés formam o input h, que então é passado pela função de ativação f(h), gerando o output final do perceptron, etiquetado como y.\n",
        " <img src='RNA-simples.png' /><br>\n",
        "\n",
        "<p style=\"text-align:center\">  <i> Diagrama de uma rede neural simples</i> </p>\n",
        " \n",
        "\n",
        "Círculos são unidades, caixas são operações. O que faz as redes neurais possíveis, é que a função de ativação, f(h) pode ser qualquer função, não apenas a função degrau.\n",
        "\n",
        "<p> Por exemplo, caso f(h)=h, o output será o mesmo que o input. Agora o output da rede é </p>\n",
        "\n",
        "<p style=\"text-align:center\"> $$h = \\frac 1n\\sum_{i=1}^n(w_i*x_i)+b$$  </p>\n",
        "\n",
        "<p> Essa equação deveria ser familiar para você, pois é a mesma do modelo de regressão linear!\n",
        "Outras funções de ativação comuns são a função logística (também chamada de sigmóide), tanh e a função softmax. Nós iremos trabalhar principalmente com a função sigmóide pelo resto dessa aula:</p>\n",
        "\n",
        "\n",
        "$$f(h) = sigmoid(h)=\\frac 1 {1+e^{-h}}$$\n",
        "    \n",
        "\n"
      ]
    },
    {
      "cell_type": "markdown",
      "metadata": {
        "id": "vweFxorIgEdM"
      },
      "source": [
        "## Vamos implementar uma RNA de apenas um neurônio!\n",
        "\n",
        "#### Importando a biblioteca"
      ]
    },
    {
      "cell_type": "code",
      "metadata": {
        "id": "ziJQogFqgEdP"
      },
      "source": [
        "import numpy as np"
      ],
      "execution_count": 1,
      "outputs": []
    },
    {
      "cell_type": "markdown",
      "metadata": {
        "id": "7QW2w3M2gEdR"
      },
      "source": [
        "#### Função do cáculo da sigmóide"
      ]
    },
    {
      "cell_type": "code",
      "metadata": {
        "id": "g63c4Bz1gEdR"
      },
      "source": [
        "def sigmoid(x):\n",
        "  return 1/(1+np.exp(-x))\n"
      ],
      "execution_count": 2,
      "outputs": []
    },
    {
      "cell_type": "markdown",
      "metadata": {
        "id": "pBe3xTQfgEdS"
      },
      "source": [
        "#### Vetor dos valores de entrada"
      ]
    },
    {
      "cell_type": "code",
      "metadata": {
        "id": "wgdseSLRgEdT"
      },
      "source": [
        "x = np.array([1.66, -0.22])\n",
        "b = 0.1\n"
      ],
      "execution_count": 3,
      "outputs": []
    },
    {
      "cell_type": "markdown",
      "metadata": {
        "id": "kNnKY2zggEdU"
      },
      "source": [
        "#### Pesos das ligações sinápticas"
      ]
    },
    {
      "cell_type": "code",
      "metadata": {
        "id": "oO74q6KmgEdU"
      },
      "source": [
        "w = np.array([0.5, -0.3])"
      ],
      "execution_count": 4,
      "outputs": []
    },
    {
      "cell_type": "markdown",
      "metadata": {
        "id": "XXTmNbRBgEdV"
      },
      "source": [
        "#### Calcule a combinação linear de entradas e pesos sinápticos"
      ]
    },
    {
      "cell_type": "code",
      "metadata": {
        "id": "WFAVS_-CgEdW"
      },
      "source": [
        "h = np.dot(x, w) + b"
      ],
      "execution_count": 5,
      "outputs": []
    },
    {
      "cell_type": "markdown",
      "metadata": {
        "id": "yw6aA73ogEdc"
      },
      "source": [
        "#### Aplicado a função de ativação do neurônio"
      ]
    },
    {
      "cell_type": "code",
      "metadata": {
        "colab": {
          "base_uri": "https://localhost:8080/"
        },
        "id": "osmgOp8cgEdd",
        "outputId": "c6af88c3-a050-44f8-d540-d8533f105128"
      },
      "source": [
        "y = sigmoid(h)\n",
        "print('A Saida da rede eh: ', y)"
      ],
      "execution_count": 8,
      "outputs": [
        {
          "output_type": "stream",
          "text": [
            "A Saida da rede eh:  0.7302714044131816\n"
          ],
          "name": "stdout"
        }
      ]
    }
  ]
}