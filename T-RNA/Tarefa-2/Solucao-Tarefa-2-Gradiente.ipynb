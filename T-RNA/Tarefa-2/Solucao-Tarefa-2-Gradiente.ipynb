{
  "nbformat": 4,
  "nbformat_minor": 0,
  "metadata": {
    "kernelspec": {
      "display_name": "Python 3",
      "language": "python",
      "name": "python3"
    },
    "language_info": {
      "codemirror_mode": {
        "name": "ipython",
        "version": 3
      },
      "file_extension": ".py",
      "mimetype": "text/x-python",
      "name": "python",
      "nbconvert_exporter": "python",
      "pygments_lexer": "ipython3",
      "version": "3.7.3"
    },
    "colab": {
      "name": "Solucao Tarefa 2 - Gradiente.ipynb",
      "provenance": []
    }
  },
  "cells": [
    {
      "cell_type": "markdown",
      "metadata": {
        "id": "VMpErEySiM1O"
      },
      "source": [
        "## Cálculo do gradiente"
      ]
    },
    {
      "cell_type": "code",
      "metadata": {
        "id": "2pOfEX3liM1V"
      },
      "source": [
        "import numpy as np"
      ],
      "execution_count": 1,
      "outputs": []
    },
    {
      "cell_type": "code",
      "metadata": {
        "id": "6J036nDLiM1Y"
      },
      "source": [
        "def sigmoid(x):\n",
        "    return 1/(1+np.exp(-x))"
      ],
      "execution_count": 2,
      "outputs": []
    },
    {
      "cell_type": "code",
      "metadata": {
        "id": "htO4Xo2qiM1Z"
      },
      "source": [
        "def sigmoid_prime(x):\n",
        "        return sigmoid(x) * (1 - sigmoid(x))"
      ],
      "execution_count": 3,
      "outputs": []
    },
    {
      "cell_type": "code",
      "metadata": {
        "id": "A-1h3B6IiM1Z"
      },
      "source": [
        "learnrate = 0.5\n",
        "x = np.array([4, 3, 2, 4])\n",
        "y = np.array(0.5)\n",
        "b = 0.5"
      ],
      "execution_count": 21,
      "outputs": []
    },
    {
      "cell_type": "code",
      "metadata": {
        "id": "ElmXYKJ2iM1a"
      },
      "source": [
        "# Pesos iniciais\n",
        "w = np.array([0.25, -0.45, 0.33, 0.21])"
      ],
      "execution_count": 22,
      "outputs": []
    },
    {
      "cell_type": "code",
      "metadata": {
        "id": "X4R3XtR7iM1a"
      },
      "source": [
        "h = np.dot(x, w)+b"
      ],
      "execution_count": 23,
      "outputs": []
    },
    {
      "cell_type": "code",
      "metadata": {
        "colab": {
          "base_uri": "https://localhost:8080/"
        },
        "id": "RB2UUEPuiM1b",
        "outputId": "4bd029a9-ae05-4774-af99-613fe57b202b"
      },
      "source": [
        "nn_output = sigmoid(h)\n",
        "print(nn_output)"
      ],
      "execution_count": 24,
      "outputs": [
        {
          "output_type": "stream",
          "text": [
            "0.8388910504234147\n"
          ],
          "name": "stdout"
        }
      ]
    },
    {
      "cell_type": "code",
      "metadata": {
        "colab": {
          "base_uri": "https://localhost:8080/"
        },
        "id": "vqNesGa7iM1e",
        "outputId": "15273d37-d228-4385-eb1a-13279e08dc98"
      },
      "source": [
        "# TODO: Calcule o erro da Rede Neural\n",
        "error = y - nn_output\n",
        "print(error)"
      ],
      "execution_count": 25,
      "outputs": [
        {
          "output_type": "stream",
          "text": [
            "-0.3388910504234147\n"
          ],
          "name": "stdout"
        }
      ]
    },
    {
      "cell_type": "code",
      "metadata": {
        "id": "T1erzgiPiM1e"
      },
      "source": [
        "# TODO: Calcule o termo de erro \n",
        "error_term = error * sigmoid_prime(h)"
      ],
      "execution_count": 26,
      "outputs": []
    },
    {
      "cell_type": "code",
      "metadata": {
        "id": "Ty4X0SGjiM1f"
      },
      "source": [
        "# TODO: Calcule a variação do peso\n",
        "del_w = learnrate * error_term * x"
      ],
      "execution_count": 27,
      "outputs": []
    },
    {
      "cell_type": "code",
      "metadata": {
        "colab": {
          "base_uri": "https://localhost:8080/"
        },
        "id": "k5Q9T2B6iM1i",
        "outputId": "2942b71c-2ada-4c14-f097-e441bd070cca"
      },
      "source": [
        "print(del_w)"
      ],
      "execution_count": 28,
      "outputs": [
        {
          "output_type": "stream",
          "text": [
            "[-0.09160419 -0.06870314 -0.04580209 -0.09160419]\n"
          ],
          "name": "stdout"
        }
      ]
    },
    {
      "cell_type": "code",
      "metadata": {
        "id": "haosi1aHiM1i"
      },
      "source": [
        "w = w + del_w"
      ],
      "execution_count": 29,
      "outputs": []
    },
    {
      "cell_type": "code",
      "metadata": {
        "colab": {
          "base_uri": "https://localhost:8080/"
        },
        "id": "MdAFFY7RiM1j",
        "outputId": "af2d89ec-6c65-4a72-81ba-71c79b3e5c16"
      },
      "source": [
        "print(w)"
      ],
      "execution_count": 30,
      "outputs": [
        {
          "output_type": "stream",
          "text": [
            "[ 0.15839581 -0.51870314  0.28419791  0.11839581]\n"
          ],
          "name": "stdout"
        }
      ]
    },
    {
      "cell_type": "code",
      "metadata": {
        "id": "DqrdU1uSiM1k"
      },
      "source": [
        "h = np.dot(x, w) + b"
      ],
      "execution_count": 32,
      "outputs": []
    },
    {
      "cell_type": "code",
      "metadata": {
        "colab": {
          "base_uri": "https://localhost:8080/"
        },
        "id": "5kAseeQGiM1k",
        "outputId": "86b61c0d-ee23-45f4-c306-0dac7c29d4bc"
      },
      "source": [
        "nn_output = sigmoid(h)\n",
        "print(nn_output)"
      ],
      "execution_count": 33,
      "outputs": [
        {
          "output_type": "stream",
          "text": [
            "0.650094109073785\n"
          ],
          "name": "stdout"
        }
      ]
    },
    {
      "cell_type": "code",
      "metadata": {
        "id": "QPictmV5iM1l"
      },
      "source": [
        ""
      ],
      "execution_count": null,
      "outputs": []
    }
  ]
}