{
  "nbformat": 4,
  "nbformat_minor": 0,
  "metadata": {
    "kernelspec": {
      "display_name": "Python 3",
      "language": "python",
      "name": "python3"
    },
    "language_info": {
      "codemirror_mode": {
        "name": "ipython",
        "version": 3
      },
      "file_extension": ".py",
      "mimetype": "text/x-python",
      "name": "python",
      "nbconvert_exporter": "python",
      "pygments_lexer": "ipython3",
      "version": "3.7.3"
    },
    "colab": {
      "name": "Tarefa3 - AtualizaPesos.ipynb",
      "provenance": []
    }
  },
  "cells": [
    {
      "cell_type": "markdown",
      "metadata": {
        "id": "gDyP-ZkplWyO"
      },
      "source": [
        "# Gradiente Descendente\n",
        "\n",
        "O gradiente descendente é um algoritmo de otimização que usa as derivadas da função objetivo\n",
        "para encontrar o ponto com maior inclinação. No processo, as variáveis a otimizar são deslocadas\n",
        "em uma direção negativa o qual reduzirá o valor da função objetivo.\n",
        "\n",
        "Algoritmo geral para atualizar os pesos com gradiente descendente:\n",
        "<p>\n",
        "<img src='RNA-Gradiente.png' /><br>\n",
        "</p>"
      ]
    },
    {
      "cell_type": "markdown",
      "metadata": {
        "id": "g9GSBQBglWyX"
      },
      "source": [
        "## Vamos implementar o algoritmo do Gradiente Descendente!\n",
        "#### Importando a biblioteca"
      ]
    },
    {
      "cell_type": "code",
      "metadata": {
        "id": "uAsesQG6lWyZ"
      },
      "source": [
        "import numpy as np"
      ],
      "execution_count": 1,
      "outputs": []
    },
    {
      "cell_type": "markdown",
      "metadata": {
        "id": "8_j8sPhjlWyb"
      },
      "source": [
        "#### Função do cáculo da sigmóide"
      ]
    },
    {
      "cell_type": "code",
      "metadata": {
        "id": "TVk0RDmtlWyb"
      },
      "source": [
        "def sigmoid(x):\n",
        "    return 1/(1+np.exp(-x))"
      ],
      "execution_count": 2,
      "outputs": []
    },
    {
      "cell_type": "markdown",
      "metadata": {
        "id": "xf308BoxlWyc"
      },
      "source": [
        "#### Derivada da função sigmóide"
      ]
    },
    {
      "cell_type": "code",
      "metadata": {
        "id": "EQKSVK7VlWyd"
      },
      "source": [
        "def sigmoid_prime(x):\n",
        "    return sigmoid(x) * (1 - sigmoid(x))"
      ],
      "execution_count": 3,
      "outputs": []
    },
    {
      "cell_type": "markdown",
      "metadata": {
        "id": "NB_JCrublWye"
      },
      "source": [
        "#### Vetor dos valores de entrada e saídas"
      ]
    },
    {
      "cell_type": "code",
      "metadata": {
        "id": "kbIQt7gblWye"
      },
      "source": [
        "x = np.array([4, 2, 3, 1])\n",
        "y = np.array(0.5)\n",
        "b= 0.5"
      ],
      "execution_count": 4,
      "outputs": []
    },
    {
      "cell_type": "markdown",
      "metadata": {
        "id": "XHlBBBUylWyf"
      },
      "source": [
        "#### Pesos iniciais das ligações sinápticas \n",
        "Nota: Inicializados aleatóriamente"
      ]
    },
    {
      "cell_type": "code",
      "metadata": {
        "id": "5KYjfRiFlWyg"
      },
      "source": [
        "w = np.array([-0.5, 0.4, 0.2, 0.1])"
      ],
      "execution_count": 5,
      "outputs": []
    },
    {
      "cell_type": "markdown",
      "metadata": {
        "id": "IoVG91WdlWyi"
      },
      "source": [
        "#### Taxa de Aprendizagem"
      ]
    },
    {
      "cell_type": "code",
      "metadata": {
        "id": "NFM8RWAFlWyi"
      },
      "source": [
        "learnrate = 0.5"
      ],
      "execution_count": 6,
      "outputs": []
    },
    {
      "cell_type": "markdown",
      "metadata": {
        "id": "brgQ5xsxlWyj"
      },
      "source": [
        "### Calcule um degrau de descida gradiente para cada peso"
      ]
    },
    {
      "cell_type": "markdown",
      "metadata": {
        "id": "_VSDF2pVlWyj"
      },
      "source": [
        "#### Critério de parada\n",
        "* **Epochs**: Número de Épocas\n",
        "* **MinError**: Erro mínimo estipulado\n"
      ]
    },
    {
      "cell_type": "code",
      "metadata": {
        "colab": {
          "base_uri": "https://localhost:8080/"
        },
        "id": "SdIbr9b1lWyk",
        "outputId": "433fc447-0b42-4477-c486-62fb20ad3b3b"
      },
      "source": [
        "#Número de Épocas\n",
        "epochs= 150\n",
        "\n",
        "#Inicilizando del_w\n",
        "del_w= 0\n",
        "\n",
        "for e in range(epochs):\n",
        "    # TODO: Calcule a combinação linear de entradas e pesos sinápticos\n",
        "    h = np.dot(x, w)\n",
        "\n",
        "    # TODO: Calcule a saída da Rede Neural\n",
        "    output = sigmoid(h)\n",
        "\n",
        "    # TODO: Calculate error of neural network\n",
        "    error = y - output\n",
        "\n",
        "    # TODO: Calcule o termo de erro\n",
        "    error_term = error * sigmoid_prime(h)\n",
        "\n",
        "    # TODO: Calcule a variação do peso\n",
        "    del_w += learnrate * error_term * x\n",
        "\n",
        "    # TODO: Atualização do Peso\n",
        "    w = w + del_w\n",
        "\n",
        "    print(error)\n"
      ],
      "execution_count": 7,
      "outputs": [
        {
          "output_type": "stream",
          "text": [
            "0.1224593312018546\n",
            "0.017074367991536665\n",
            "-0.10523021553925405\n",
            "-0.1331610394511129\n",
            "-0.04992348602669039\n",
            "0.08186288103872164\n",
            "0.13702054214308834\n",
            "0.07914061473401385\n",
            "-0.05312491534741448\n",
            "-0.1338772349451901\n",
            "-0.1031054099923715\n",
            "0.020550437317537695\n",
            "0.12386443554480409\n",
            "0.12098541064177393\n",
            "0.013584361518174992\n",
            "-0.10728999761049562\n",
            "-0.13237258552460696\n",
            "-0.04668310311347956\n",
            "0.08452780049101649\n",
            "0.1369464159069244\n",
            "0.07636222640918172\n",
            "-0.05628520346704402\n",
            "-0.13452085852786644\n",
            "-0.10091609502426313\n",
            "0.02400977269931437\n",
            "0.1252003685701355\n",
            "0.11944302728834877\n",
            "0.010083244939308011\n",
            "-0.10928428170818516\n",
            "-0.13151220270255815\n",
            "-0.04340604065366027\n",
            "0.08713424367679473\n",
            "0.1367982037433928\n",
            "0.07352903928797522\n",
            "-0.05940225344921224\n",
            "-0.13509161637031208\n",
            "-0.09866283085165473\n",
            "0.027449613830077435\n",
            "0.1264667728191607\n",
            "0.1178325343000815\n",
            "0.0065738693031273665\n",
            "-0.1112126264784643\n",
            "-0.1305802330570175\n",
            "-0.040094654418297515\n",
            "0.08968117287901295\n",
            "0.1365759856834306\n",
            "0.07064247716857719\n",
            "-0.06247406271575895\n",
            "-0.13558923785605503\n",
            "-0.0963462305430185\n",
            "0.030867243128767763\n",
            "0.1276632885041774\n",
            "0.11615428671612998\n",
            "0.0030591034402147055\n",
            "-0.11307461759661652\n",
            "-0.1295770278411993\n",
            "-0.03675137678739049\n",
            "0.09216763766642\n",
            "0.13627988032244087\n",
            "0.06770406578975935\n",
            "-0.06549872611532459\n",
            "-0.13601347901572802\n",
            "-0.0939669666786408\n",
            "0.03425999194205509\n",
            "0.12878955421500143\n",
            "0.11440864432648806\n",
            "-0.0004581722438118385\n",
            "-0.11486986204626792\n",
            "-0.1285029444010405\n",
            "-0.03337871130111625\n",
            "0.09459276986393556\n",
            "0.13591004312245913\n",
            "0.0647154333698568\n",
            "-0.06847443831218825\n",
            "-0.13636412574120016\n",
            "-0.09152577786747762\n",
            "0.03762524667962047\n",
            "0.12984520825616724\n",
            "0.11259597524125325\n",
            "-0.003975071962182719\n",
            "-0.1165979828797955\n",
            "-0.12735834344457797\n",
            "-0.029979226946805104\n",
            "0.09695577798899246\n",
            "0.13546666421946724\n",
            "0.06167831032403348\n",
            "-0.07139949544137436\n",
            "-0.13664099669246765\n",
            "-0.08902347500860941\n",
            "0.04096045484079547\n",
            "0.13082989055579802\n",
            "0.11071666011923725\n",
            "-0.007488710733866144\n",
            "-0.11825861453597675\n",
            "-0.12614358675483806\n",
            "-0.02655555224461248\n",
            "0.0992559412487456\n",
            "0.13494996579444063\n",
            "0.058594528180340666\n",
            "-0.07427229598664586\n",
            "-0.13684394581929182\n",
            "-0.08646094718928976\n",
            "0.04426313088216016\n",
            "0.1317432450760712\n",
            "0.10877109700213194\n",
            "-0.010996210571534326\n",
            "-0.1198513987785168\n",
            "-0.1248590354235638\n",
            "-0.02311036918805387\n",
            "0.10149260320146775\n",
            "0.13436019907852093\n",
            "0.05546601772882559\n",
            "-0.07709134085056668\n",
            "-0.13697286443009893\n",
            "-0.08383916711823314\n",
            "0.047530861868030405\n",
            "0.13258492264560434\n",
            "0.10675970668725238\n",
            "-0.014494706678437774\n",
            "-0.12137598130564775\n",
            "-0.12350504867310008\n",
            "-0.019646407087660078\n",
            "0.10366516519146785\n",
            "0.13369764107276716\n",
            "0.052294806450033815\n",
            "-0.07985523259993865\n",
            "-0.13702768275290023\n",
            "-0.08115919600179766\n",
            "0.050761312839343875\n",
            "0.13335458412618484\n",
            "0.10468293855980876\n",
            "-0.01798135365995923\n",
            "-0.12283200906679337\n",
            "-0.12208198332233999\n",
            "-0.016166436357387903\n",
            "0.10577307967039817\n",
            "0.13296259107101643\n",
            "0.04908301527929526\n",
            "-0.08256267388521199\n",
            "-0.13700837094658003\n",
            "-0.0784221877818384\n",
            "0.05395223183161746\n",
            "0.134051903820192\n",
            "0.10254127679497022\n",
            "-0.02145333175180486\n",
            "-0.12421912830759008\n",
            "-0.12059019394002435\n",
            "-0.012673262274524144\n",
            "0.10781584351881207\n",
            "0.13215536708034104\n"
          ],
          "name": "stdout"
        }
      ]
    },
    {
      "cell_type": "code",
      "metadata": {
        "colab": {
          "base_uri": "https://localhost:8080/"
        },
        "id": "zWx7keqJlWyk",
        "outputId": "04ec1b2b-c161-4c4b-8d09-5e5778fef817"
      },
      "source": [
        "print('Saída da Rede Neural:')\n",
        "print(output)\n",
        "print('Erro:',error)\n"
      ],
      "execution_count": 8,
      "outputs": [
        {
          "output_type": "stream",
          "text": [
            "Saída da Rede Neural:\n",
            "0.36784463291965896\n",
            "Erro: 0.13215536708034104\n"
          ],
          "name": "stdout"
        }
      ]
    },
    {
      "cell_type": "code",
      "metadata": {
        "id": "BlyGmxYLlWyl"
      },
      "source": [
        ""
      ],
      "execution_count": null,
      "outputs": []
    }
  ]
}