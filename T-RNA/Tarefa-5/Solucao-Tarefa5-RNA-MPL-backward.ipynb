{
  "nbformat": 4,
  "nbformat_minor": 0,
  "metadata": {
    "kernelspec": {
      "display_name": "Python 3",
      "language": "python",
      "name": "python3"
    },
    "language_info": {
      "codemirror_mode": {
        "name": "ipython",
        "version": 3
      },
      "file_extension": ".py",
      "mimetype": "text/x-python",
      "name": "python",
      "nbconvert_exporter": "python",
      "pygments_lexer": "ipython3",
      "version": "3.7.3"
    },
    "colab": {
      "name": "Tarefa5 - RNA MPL backward.ipynb",
      "provenance": []
    }
  },
  "cells": [
    {
      "cell_type": "markdown",
      "metadata": {
        "id": "BRZ3Ck3Ws5ho"
      },
      "source": [
        "# Rede Neural Multicamadas (MPL)\n",
        "Uma rede MPL é uma classe de rede neural artificial *feedforward* (ANN). Um MLP consiste em pelo menos três camadas de nós: uma camada de entrada , uma camada oculta e uma camada de saída . Exceto para os nós de entrada, cada nó é um neurônio que usa uma função de ativação não linear . O MLP utiliza uma técnica de aprendizado supervisionado chamada *backpropagation* para treinamento.\n",
        "\n",
        "\n",
        "\n",
        "### Implementando uma RNA multicamadas\n",
        "\n",
        "A imagem a seguir mostra a nossa rede, com as unidades de entrada marcadas como Input1, Input2 e Input3 (**Input Layer**) conectadas com os *nós* da camada oculta (**Hidden Layer**). Por sua vez as saída dos *nós* da camada oculda servem como entrada para os *nós*  da camada de saída (**Output Layer**). <img src='MPL.png' /><br>\n",
        "\n",
        "<p style=\"text-align:center\">  <i> Diagrama de uma MPL</i> </p>\n",
        " \n",
        "\n",
        "Lembrando que em cada *nó* temos: \n",
        "\n",
        "$$f(h) = sigmoid(h)=\\frac 1 {1+e^{-h}}$$  \n",
        "\n",
        "onde\n",
        "\n",
        "<p style=\"text-align:center\"> $$h = \\frac 1n\\sum_{i=1}^n(w_i*x_i)+b$$  </p>\n",
        "\n",
        "\n",
        "\n",
        "\n",
        "    \n",
        "\n"
      ]
    },
    {
      "cell_type": "markdown",
      "metadata": {
        "id": "xIWBwDpps5hy"
      },
      "source": [
        "## Configuração da MPL"
      ]
    },
    {
      "cell_type": "code",
      "metadata": {
        "id": "TOZQ49Jis5h0"
      },
      "source": [
        "#Importando a biblioteca\n",
        "import numpy as np\n",
        "\n",
        "#Função do cáculo da sigmóide\n",
        "def sigmoid(x):\n",
        "    return 1/(1+np.exp(-x))\n",
        "\n",
        "#Arquitetura da MPL\n",
        "N_input = 3\n",
        "N_hidden = 4\n",
        "N_output = 2\n",
        "\n",
        "#Vetor dos valores de entrada\n",
        "x = np.array([0.2, 0.13, -0.26])\n",
        "target =np.array([0.36, 0.28])\n",
        "learnrate = 0.5\n",
        "\n",
        "#Pesos da Camada Oculta\n",
        "\n",
        "weights_in_hidden = np.array([[-0.18,  0.18, -0.03, 0.03],\n",
        "                              [ 0.05,  0.10,  0.07, 0.02],\n",
        "                              [-0.07,  0.04, -0.05, 0.05]])\n",
        "\n",
        "#Pesos da Camada de Saída\n",
        "weights_hidden_out = np.array([[-0.18,  0.11],\n",
        "                               [-0.09,  0.05],\n",
        "                               [-0.04,  0.05],\n",
        "                               [-0.02,  0.07]])\n",
        "\n"
      ],
      "execution_count": 5,
      "outputs": []
    },
    {
      "cell_type": "markdown",
      "metadata": {
        "id": "7Qkp4a_4s5h3"
      },
      "source": [
        "### Forward Pass"
      ]
    },
    {
      "cell_type": "code",
      "metadata": {
        "scrolled": true,
        "colab": {
          "base_uri": "https://localhost:8080/"
        },
        "id": "KK3e2l2us5h4",
        "outputId": "cb6c5779-3b71-4b91-e10d-855afcbc60b4"
      },
      "source": [
        "#Camada oculta\n",
        "\n",
        "#Calcule a combinação linear de entradas e pesos sinápticos\n",
        "hidden_layer_input = np.dot(x, weights_in_hidden)\n",
        "#Aplicado a função de ativação\n",
        "hidden_layer_output = sigmoid(hidden_layer_input)\n",
        "\n",
        "#Camada de Saída\n",
        "\n",
        "#Calcule a combinação linear de entradas e pesos sinápticos\n",
        "output_layer_in = np.dot(hidden_layer_output, weights_hidden_out)\n",
        "\n",
        "#Aplicado a função de ativação \n",
        "output = sigmoid(output_layer_in)\n",
        "\n",
        "print('As saídas da rede são',output)\n"
      ],
      "execution_count": 8,
      "outputs": [
        {
          "output_type": "stream",
          "text": [
            "As saídas da rede são [0.45871946 0.53501657]\n"
          ],
          "name": "stdout"
        }
      ]
    },
    {
      "cell_type": "markdown",
      "metadata": {
        "id": "iKBWEGmjs5h4"
      },
      "source": [
        "## Backward Pass"
      ]
    },
    {
      "cell_type": "code",
      "metadata": {
        "scrolled": true,
        "colab": {
          "base_uri": "https://localhost:8080/"
        },
        "id": "OSqToA5Os5h5",
        "outputId": "acbe49f1-d34e-4aa7-e332-25deb400cc53"
      },
      "source": [
        "\n",
        "## TODO: Cálculo do Erro\n",
        "error = target - output\n",
        "#print('Erro da Rede: ',error)\n",
        "\n",
        "# TODO: Calcule o termo de erro de saída (Gradiente da Camada de Saída)\n",
        "output_error_term = error * output * (1 - output)\n",
        "\n",
        "\n",
        "# TODO: Calcule a contribuição da camada oculta para o erro\n",
        "hidden_error = np.dot(weights_hidden_out,output_error_term)\n",
        "\n",
        "\n",
        "# TODO: Calcule o termo de erro da camada oculta (Gradiente da Camada Oculta)\n",
        "hidden_error_term = hidden_error * hidden_layer_output * (1 - hidden_layer_output)\n",
        "\n",
        "# TODO: Calcule a variação do peso da camada de saída\n",
        "delta_w_h_o = learnrate * output_error_term*hidden_layer_output[:, None]\n",
        "print('delta_w_h_o: ',delta_w_h_o)\n",
        "\n",
        "# TODO: Calcule a variação do peso da camada oculta\n",
        "delta_w_i_h = learnrate * hidden_error_term * x[:, None]\n",
        "print('delta_w_i_h: ',delta_w_i_h)\n",
        "\n"
      ],
      "execution_count": 10,
      "outputs": [
        {
          "output_type": "stream",
          "text": [
            "delta_w_h_o:  [[-0.00609329 -0.01577075]\n",
            " [-0.00624616 -0.01616643]\n",
            " [-0.00617724 -0.01598804]\n",
            " [-0.00611443 -0.01582547]]\n",
            "delta_w_i_h:  [[-6.41595715e-05 -2.41416349e-05 -5.47866254e-05 -9.87662420e-05]\n",
            " [-4.17037215e-05 -1.56920627e-05 -3.56113065e-05 -6.41980573e-05]\n",
            " [ 8.34074430e-05  3.13841253e-05  7.12226130e-05  1.28396115e-04]]\n"
          ],
          "name": "stdout"
        }
      ]
    },
    {
      "cell_type": "markdown",
      "metadata": {
        "id": "aH10Apcus5h6"
      },
      "source": [
        "### Atualização dos Pesos"
      ]
    },
    {
      "cell_type": "code",
      "metadata": {
        "colab": {
          "base_uri": "https://localhost:8080/"
        },
        "id": "eLVjPGwOs5h6",
        "outputId": "53055bb7-754a-492c-ee02-06893e1e45b0"
      },
      "source": [
        "weights_input_hidden = learnrate * delta_w_i_h\n",
        "print('weights_input_hidden: ',weights_input_hidden)\n",
        "weights_hidden_output = learnrate * delta_w_h_o\n",
        "print('weights_hidden_output: ',weights_hidden_output)"
      ],
      "execution_count": 11,
      "outputs": [
        {
          "output_type": "stream",
          "text": [
            "weights_input_hidden:  [[-3.20797858e-05 -1.20708174e-05 -2.73933127e-05 -4.93831210e-05]\n",
            " [-2.08518608e-05 -7.84603133e-06 -1.78056532e-05 -3.20990287e-05]\n",
            " [ 4.17037215e-05  1.56920627e-05  3.56113065e-05  6.41980573e-05]]\n",
            "weights_hidden_output:  [[-0.00304664 -0.00788538]\n",
            " [-0.00312308 -0.00808321]\n",
            " [-0.00308862 -0.00799402]\n",
            " [-0.00305721 -0.00791273]]\n"
          ],
          "name": "stdout"
        }
      ]
    }
  ]
}